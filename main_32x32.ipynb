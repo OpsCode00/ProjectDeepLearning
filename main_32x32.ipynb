{
 "cells": [
  {
   "cell_type": "code",
   "execution_count": 26,
   "metadata": {},
   "outputs": [],
   "source": [
    "import torch\n",
    "from torchvision import datasets, transforms\n",
    "import random\n",
    "import matplotlib.pyplot as plt\n",
    "import seaborn as sns\n",
    "from sklearn.metrics import confusion_matrix, classification_report\n",
    "import numpy as np\n",
    "import nbformat\n",
    "import os\n",
    "import collections\n",
    "\n",
    "PRINT_IMG = True\n",
    "AUGMENT_DATASET = False\n",
    "TRANSFORM_DATASET = False\n",
    "\n",
    "OPTIMIZER='ADAM'\n",
    "\n",
    "### Hyperparameters ###\n",
    "BATCH_SIZE = 128\n",
    "LEARNING_RATE = 0.001\n",
    "MOMENTUM = 0.9\n",
    "EPOCHS = 60"
   ]
  },
  {
   "cell_type": "code",
   "execution_count": 3,
   "metadata": {},
   "outputs": [],
   "source": [
    "def create_image_pairs(dataset):\n",
    "    image_pairs = []\n",
    "    labels = []\n",
    "\n",
    "    max_size_class = len(dataset) // 3  # Limita il numero massimo di campioni per ciascuna classe\n",
    "    count_class_0 = 0  # Contatore per la classe A > B\n",
    "    count_class_1 = 0  # Contatore per la classe A < B\n",
    "    count_class_2 = 0  # Contatore per la classe A = B\n",
    "    i = 0\n",
    "    \n",
    "    # Continua finché tutte le classi non sono bilanciate\n",
    "    while count_class_0 < max_size_class or count_class_1 < max_size_class or count_class_2 < max_size_class:\n",
    "        img_A, label_A = dataset[i]\n",
    "\n",
    "        class_busy = True\n",
    "        while class_busy:  # Cerca una relazione valida che non sia satura\n",
    "            idx_B = random.randint(0, len(dataset) - 1)\n",
    "            img_B, label_B = dataset[idx_B]\n",
    "\n",
    "            # Determina la relazione tra le etichette\n",
    "            if label_A > label_B:\n",
    "                relation_label = 0  # A > B\n",
    "            elif label_A < label_B:\n",
    "                relation_label = 1  # A < B\n",
    "            else:\n",
    "                relation_label = 2  # A = B\n",
    "\n",
    "            # Verifica se la classe ha già raggiunto il limite massimo\n",
    "            if relation_label == 0 and count_class_0 < max_size_class:\n",
    "                count_class_0 += 1\n",
    "                class_busy = False\n",
    "            elif relation_label == 1 and count_class_1 < max_size_class:\n",
    "                count_class_1 += 1\n",
    "                class_busy = False\n",
    "            elif relation_label == 2 and count_class_2 < max_size_class:\n",
    "                count_class_2 += 1\n",
    "                class_busy = False\n",
    "\n",
    "        # Aggiungi la coppia solo se la classe non ha raggiunto il limite massimo\n",
    "        image_pairs.append((img_A, img_B))\n",
    "        labels.append(relation_label)\n",
    "        i += 1\n",
    "\n",
    "    return image_pairs, labels\n"
   ]
  },
  {
   "cell_type": "code",
   "execution_count": 4,
   "metadata": {},
   "outputs": [],
   "source": [
    "# Dataset personalizzato per gestire le coppie di immagini\n",
    "class MNISTPairDataset(torch.utils.data.Dataset):\n",
    "    def __init__(self, dataset):\n",
    "        self.image_pairs, self.labels = create_image_pairs(dataset)\n",
    "\n",
    "    def __len__(self):\n",
    "        return len(self.image_pairs)\n",
    "\n",
    "    def __getitem__(self, idx):\n",
    "        img_A, img_B = self.image_pairs[idx]\n",
    "        label = self.labels[idx]\n",
    "\n",
    "        # Concatenare le immagini lungo il canale (depth)\n",
    "        concatenated_image = torch.cat((img_A, img_B), dim=0)\n",
    "\n",
    "        return concatenated_image, label\n"
   ]
  },
  {
   "cell_type": "code",
   "execution_count": 5,
   "metadata": {},
   "outputs": [],
   "source": [
    "# Funzione per visualizzare una coppia di immagini e la loro etichetta di relazione\n",
    "def show_image_pair(img_A, img_B, relation_label):\n",
    "    relation_labels = {0: 'A > B', 1: 'A < B', 2: 'A = B'}\n",
    "\n",
    "    # Converte il tensore in numpy array per visualizzazione\n",
    "    img_A = img_A.squeeze().numpy()  # Rimuove la dimensione del canale\n",
    "    img_B = img_B.squeeze().numpy()\n",
    "\n",
    "    # Crea una figura con due immagini, riducendo la dimensione per occupare meno spazio\n",
    "    fig, axes = plt.subplots(1, 2, figsize=(4, 4))  # Dimensioni ridotte\n",
    "\n",
    "    # Mostra le immagini\n",
    "    axes[0].imshow(img_A, cmap='gray')\n",
    "    axes[0].set_title('Image A')\n",
    "    axes[0].axis('off')  # Rimuove gli assi\n",
    "\n",
    "    axes[1].imshow(img_B, cmap='gray')\n",
    "    axes[1].set_title('Image B')\n",
    "    axes[1].axis('off')  # Rimuove gli assi\n",
    "\n",
    "    # Riduce lo spazio tra i subplots\n",
    "    plt.tight_layout(pad=0.5)  # Riduce il padding tra le immagini\n",
    "\n",
    "    # Mostra il titolo della relazione\n",
    "    plt.suptitle(f'Relation: {relation_labels[relation_label]}', y=0.85)  # Posiziona il titolo più vicino\n",
    "    plt.show()\n"
   ]
  },
  {
   "cell_type": "code",
   "execution_count": 6,
   "metadata": {},
   "outputs": [],
   "source": [
    "# Funzione per visualizzare più coppie di immagini in un'unica figura\n",
    "def show_dataset(dataset, num_images=5):\n",
    "    dataiter = iter(dataset)\n",
    "    images, labels = next(dataiter)\n",
    "\n",
    "    # Mappa delle etichette di relazione\n",
    "    relation_labels = {0: 'A > B', 1: 'A < B', 2: 'A = B'}\n",
    "\n",
    "    # Numero di righe: ogni riga contiene 1 coppia di immagini (2 colonne)\n",
    "    num_rows = num_images  # 1 coppia per riga\n",
    "\n",
    "    # Crea una griglia di subplots: num_rows righe, 3 colonne (Image A, Relation, Image B)\n",
    "    fig, axes = plt.subplots(num_rows, 3, figsize=(6, num_rows * 2))\n",
    "    \n",
    "    for i in range(num_images):\n",
    "        concatenated_image = images[i]\n",
    "        label = labels[i].item()\n",
    "\n",
    "        img_A = concatenated_image[0, :, :]\n",
    "        img_B = concatenated_image[1, :, :]\n",
    "\n",
    "        # Mostra l'immagine A nel subplot\n",
    "        axes[i, 0].imshow(img_A, cmap='gray')\n",
    "        axes[i, 0].set_title('Image A')\n",
    "        axes[i, 0].axis('off')\n",
    "\n",
    "        # Mostra l'etichetta di relazione nel subplot centrale\n",
    "        axes[i, 1].text(0.5, 0.5, f'Relation: {relation_labels[label]}', \n",
    "                        fontsize=12, ha='center', va='center')\n",
    "        axes[i, 1].axis('off')\n",
    "\n",
    "        # Mostra l'immagine B nel subplot\n",
    "        axes[i, 2].imshow(img_B, cmap='gray')\n",
    "        axes[i, 2].set_title('Image B')\n",
    "        axes[i, 2].axis('off')  # Nascondi gli assi\n",
    "\n",
    "    # Applica il layout compatto per ridurre lo spazio tra i subplot\n",
    "    plt.tight_layout(pad=0.5)\n",
    "    plt.show()\n",
    "    return fig\n"
   ]
  },
  {
   "cell_type": "code",
   "execution_count": 7,
   "metadata": {},
   "outputs": [],
   "source": [
    "def dataset_statistics(dataset):\n",
    "    image_shapes = set()\n",
    "    pair_relations_counts = collections.Counter()\n",
    "\n",
    "    for img_pair, label in dataset:\n",
    "        # Aggiorna la distribuzione delle classi\n",
    "        pair_relations_counts[label] += 1\n",
    "\n",
    "        # Controlla la dimensione delle immagini\n",
    "        image_shapes.add(img_pair.shape)\n",
    "\n",
    "    # Riassumi le informazioni\n",
    "    total_samples = len(dataset)\n",
    "    class_distribution = dict(pair_relations_counts)\n",
    "\n",
    "    print(f\"Numero totale di campioni: {total_samples}\")\n",
    "    print(f\"Distribuzione delle relazioni (A > B, A < B, A = B): {class_distribution}\")\n",
    "    print(f\"Dimensioni delle immagini trovate nel dataset: {image_shapes}\")\n",
    "\n",
    "    # Calcolo delle percentuali delle classi\n",
    "    for relation, count in class_distribution.items():\n",
    "        percentage = (count / total_samples) * 100\n",
    "        print(f\"Relazione {relation}: {count} campioni ({percentage:.2f}%)\")\n",
    "    \n",
    "    print(\"\\n\")\n",
    "    return class_distribution, image_shapes\n"
   ]
  },
  {
   "cell_type": "code",
   "execution_count": 8,
   "metadata": {},
   "outputs": [],
   "source": [
    "def dataset_raw_statistics(dataset):\n",
    "    class_counts = collections.Counter()\n",
    "    percentage = {}\n",
    "\n",
    "    for _, label in dataset:\n",
    "        class_counts[label] += 1\n",
    "\n",
    "    for label, count in class_counts.items():\n",
    "        percentage[label] = (count / len(dataset)) * 100\n",
    "    \n",
    "    return class_counts, percentage"
   ]
  },
  {
   "cell_type": "code",
   "execution_count": 9,
   "metadata": {},
   "outputs": [],
   "source": [
    "import matplotlib.pyplot as plt\n",
    "import seaborn as sns\n",
    "\n",
    "def plot_dataset_statistics(dataset, dataset_name=\"Dataset\"):\n",
    "    # Ottieni le statistiche con la funzione precedente\n",
    "    class_distribution, image_shapes = dataset_statistics(dataset)\n",
    "    \n",
    "    # Imposta uno stile per i grafici\n",
    "    sns.set(style=\"whitegrid\")\n",
    "    \n",
    "    # 1. Istogramma della distribuzione delle classi (relazioni A > B, A < B, A = B)\n",
    "    plt.figure(figsize=(10, 6))\n",
    "    classes = ['A > B', 'A < B', 'A = B']\n",
    "    counts = [class_distribution.get(0, 0), class_distribution.get(1, 0), class_distribution.get(2, 0)]\n",
    "    \n",
    "    sns.barplot(x=classes, y=counts, hue=classes, palette='viridis', dodge=False, legend=False)\n",
    "    plt.title(f'Distribuzione delle Relazioni nel {dataset_name}', fontsize=16)\n",
    "    plt.ylabel('Numero di campioni')\n",
    "    plt.xlabel('Relazioni tra le immagini')\n",
    "    plt.show()\n",
    "    \n",
    "    # 3. Box plot per esplorare la distribuzione delle classi in percentuale\n",
    "    plt.figure(figsize=(10, 6))\n",
    "    percentages = [(count / len(dataset)) * 100 for count in counts]\n",
    "    sns.barplot(x=classes, y=percentages, hue=classes, palette='coolwarm', dodge=False, legend=False)\n",
    "    plt.title(f'Percentuale di Relazioni nel {dataset_name}', fontsize=16)\n",
    "    plt.ylabel('Percentuale (%)')\n",
    "    plt.xlabel('Relazioni tra le immagini')\n",
    "    plt.show()"
   ]
  },
  {
   "cell_type": "code",
   "execution_count": 10,
   "metadata": {},
   "outputs": [],
   "source": [
    "def plot_dataset_raw_statistics(dataset, dataset_name=\"Dataset\"):\n",
    "    class_counts, percentage = dataset_raw_statistics(dataset)\n",
    "\n",
    "    # Imposta uno stile per i grafici\n",
    "    sns.set(style=\"whitegrid\")\n",
    "\n",
    "    plt.figure(figsize=(10, 6))\n",
    "    classes = list(class_counts.keys())\n",
    "    counts = list(class_counts.values())\n",
    "\n",
    "    sns.barplot(x=classes, y=counts, hue=classes, palette='viridis', dodge=False, legend=False)\n",
    "    plt.title(f'Distribuzione delle Classi nel {dataset_name}', fontsize=16)\n",
    "    plt.ylabel('Numero di campioni')\n",
    "    plt.xlabel('Classi')\n",
    "    plt.show()\n",
    "\n",
    "    plt.figure(figsize=(10, 6))\n",
    "    percentages = list(percentage.values())\n",
    "    sns.barplot(x=classes, y=percentages, hue=classes, palette='coolwarm', dodge=False, legend=False)\n",
    "    plt.title(f'Percentuale delle Classi nel {dataset_name}', fontsize=16)\n",
    "    plt.ylabel('Percentuale (%)')\n",
    "    plt.xlabel('Classi')\n",
    "    plt.show()    "
   ]
  },
  {
   "cell_type": "code",
   "execution_count": 11,
   "metadata": {},
   "outputs": [],
   "source": [
    "# Definisci la funzione per aggiungere rumore gaussiano\n",
    "def add_gaussian_noise(tensor, mean=0.0, std=0.05):\n",
    "    return tensor + std * torch.randn_like(tensor) + mean"
   ]
  },
  {
   "cell_type": "code",
   "execution_count": 12,
   "metadata": {},
   "outputs": [],
   "source": [
    "# Definisci la funzione per invertire i colori\n",
    "def invert_colors(tensor):\n",
    "    return 1 - tensor"
   ]
  },
  {
   "cell_type": "code",
   "execution_count": 13,
   "metadata": {},
   "outputs": [],
   "source": [
    "def create_train_dataset(transform_dataset=False, augment_dataset=False):\n",
    "    transform_norm = transforms.Compose([\n",
    "        transforms.ToTensor(),\n",
    "        transforms.Resize((32, 32)),\n",
    "        transforms.Normalize((0.1307,), (0.3081,))])\n",
    "\n",
    "    transform_augmented = transforms.Compose([\n",
    "        transforms.RandomAffine(degrees=20, translate=(0.1, 0.1), scale=(0.8, 1.2)),\n",
    "        transforms.ToTensor(),\n",
    "        transforms.Resize((32, 32)),\n",
    "        transforms.RandomChoice([\n",
    "            transforms.Lambda(lambda x: add_gaussian_noise(x)),\n",
    "            transforms.Lambda(lambda x: invert_colors(x)),\n",
    "            transforms.Lambda(lambda x: x),\n",
    "        ]),\n",
    "        transforms.Normalize((0.1307,), (0.3081,))\n",
    "    ])\n",
    "\n",
    "    train_dataset = datasets.MNIST(root='./data', train=True, download=True,\n",
    "                               transform=transform_norm)\n",
    "    \n",
    "    train_dataset_augmented = datasets.MNIST(root='./data', train=True, download=True,\n",
    "                               transform=transform_augmented)\n",
    "\n",
    "    train_pair_dataset = MNISTPairDataset(train_dataset)\n",
    "    train_pair_dataset_augmented = MNISTPairDataset(train_dataset_augmented)\n",
    "\n",
    "    print(f\"Dimensione del dataset originale: {len(train_pair_dataset)}\")\n",
    "    print(f\"Dimensione del dataset trasformato: {len(train_pair_dataset_augmented)}\")\n",
    "\n",
    "    if augment_dataset:\n",
    "        train_pair_dataset = torch.utils.data.ConcatDataset([train_pair_dataset, train_pair_dataset_augmented])\n",
    "        print(f\"Dimensione del dataset combinato: {len(train_pair_dataset)}\")\n",
    "    \n",
    "    if transform_dataset:\n",
    "        train_pair_dataset = train_pair_dataset_augmented\n",
    "\n",
    "    return train_pair_dataset, train_dataset\n"
   ]
  },
  {
   "cell_type": "code",
   "execution_count": 14,
   "metadata": {},
   "outputs": [],
   "source": [
    "def create_test_dataset(validation_split=0.2):\n",
    "    transform_norm = transforms.Compose([\n",
    "        transforms.ToTensor(),\n",
    "        transforms.Resize((32, 32)),\n",
    "        transforms.Normalize((0.1307,), (0.3081,))])\n",
    "    \n",
    "    test_dataset = datasets.MNIST(root='./data', train=False, download=True, transform=transform_norm)\n",
    "\n",
    "    test_pair_dataset = MNISTPairDataset(test_dataset)\n",
    "\n",
    "    total_test_size = len(test_pair_dataset)\n",
    " \n",
    "    validation_size = int(total_test_size * validation_split)\n",
    "    test_size = total_test_size - validation_size\n",
    "\n",
    "    test_subset, validation_subset = torch.utils.data.random_split(test_pair_dataset, [test_size, validation_size])\n",
    "    return test_subset, validation_subset, test_dataset"
   ]
  },
  {
   "cell_type": "code",
   "execution_count": 15,
   "metadata": {},
   "outputs": [],
   "source": [
    "def create_data_loader(train_dataset, validation_dataset, test_dataset, batch_size):\n",
    "    train_loader = torch.utils.data.DataLoader(train_dataset, batch_size=batch_size, shuffle=True)\n",
    "    validation_loader = torch.utils.data.DataLoader(validation_dataset, batch_size=batch_size, shuffle=False)\n",
    "    test_loader = torch.utils.data.DataLoader(test_dataset, batch_size=batch_size, shuffle=False)\n",
    "    return train_loader, validation_loader, test_loader"
   ]
  },
  {
   "cell_type": "code",
   "execution_count": 16,
   "metadata": {},
   "outputs": [
    {
     "name": "stderr",
     "output_type": "stream",
     "text": [
      "/home/andrea/miniconda3/envs/pytorch/lib/python3.11/site-packages/torchvision/transforms/functional.py:1603: UserWarning: The default value of the antialias parameter of all the resizing transforms (Resize(), RandomResizedCrop(), etc.) will change from None to True in v0.17, in order to be consistent across the PIL and Tensor backends. To suppress this warning, directly pass antialias=True (recommended, future default), antialias=None (current default, which means False for Tensors and True for PIL), or antialias=False (only works on Tensors - PIL will still use antialiasing). This also applies if you are using the inference transforms from the models weights: update the call to weights.transforms(antialias=True).\n",
      "  warnings.warn(\n"
     ]
    },
    {
     "name": "stdout",
     "output_type": "stream",
     "text": [
      "Dimensione del dataset originale: 60000\n",
      "Dimensione del dataset trasformato: 60000\n"
     ]
    }
   ],
   "source": [
    "train_dataset, train_dataset_raw = create_train_dataset(TRANSFORM_DATASET, AUGMENT_DATASET)\n",
    "test_dataset, validation_dataset, test_dataset_raw = create_test_dataset(validation_split=0.3)"
   ]
  },
  {
   "cell_type": "code",
   "execution_count": 17,
   "metadata": {},
   "outputs": [
    {
     "data": {
      "image/png": "[encoded data removed]",
      "text/plain": [
       "<Figure size 1000x600 with 1 Axes>"
      ]
     },
     "metadata": {},
     "output_type": "display_data"
    },
    {
     "data": {
      "image/png": "[encoded data removed]",
      "text/plain": [
       "<Figure size 1000x600 with 1 Axes>"
      ]
     },
     "metadata": {},
     "output_type": "display_data"
    }
   ],
   "source": [
    "plot_dataset_raw_statistics(train_dataset_raw, \"Train Dataset Raw\")"
   ]
  },
  {
   "cell_type": "code",
   "execution_count": 18,
   "metadata": {},
   "outputs": [
    {
     "name": "stdout",
     "output_type": "stream",
     "text": [
      "Numero totale di campioni: 60000\n",
      "Distribuzione delle relazioni (A > B, A < B, A = B): {0: 20000, 1: 20000, 2: 20000}\n",
      "Dimensioni delle immagini trovate nel dataset: {torch.Size([2, 32, 32])}\n",
      "Relazione 0: 20000 campioni (33.33%)\n",
      "Relazione 1: 20000 campioni (33.33%)\n",
      "Relazione 2: 20000 campioni (33.33%)\n",
      "\n",
      "\n"
     ]
    },
    {
     "data": {
      "image/png": "[encoded data removed]",
      "text/plain": [
       "<Figure size 1000x600 with 1 Axes>"
      ]
     },
     "metadata": {},
     "output_type": "display_data"
    },
    {
     "data": {
      "image/png": "[encoded data removed]",
      "text/plain": [
       "<Figure size 1000x600 with 1 Axes>"
      ]
     },
     "metadata": {},
     "output_type": "display_data"
    }
   ],
   "source": [
    "plot_dataset_statistics(train_dataset, dataset_name=\"Train Dataset\")"
   ]
  },
  {
   "cell_type": "code",
   "execution_count": 19,
   "metadata": {},
   "outputs": [
    {
     "name": "stdout",
     "output_type": "stream",
     "text": [
      "Numero totale di campioni: 7000\n",
      "Distribuzione delle relazioni (A > B, A < B, A = B): {0: 2360, 1: 2305, 2: 2335}\n",
      "Dimensioni delle immagini trovate nel dataset: {torch.Size([2, 32, 32])}\n",
      "Relazione 0: 2360 campioni (33.71%)\n",
      "Relazione 1: 2305 campioni (32.93%)\n",
      "Relazione 2: 2335 campioni (33.36%)\n",
      "\n",
      "\n"
     ]
    },
    {
     "data": {
      "image/png": "[encoded data removed]",
      "text/plain": [
       "<Figure size 1000x600 with 1 Axes>"
      ]
     },
     "metadata": {},
     "output_type": "display_data"
    },
    {
     "data": {
      "image/png": "[encoded data removed]",
      "text/plain": [
       "<Figure size 1000x600 with 1 Axes>"
      ]
     },
     "metadata": {},
     "output_type": "display_data"
    }
   ],
   "source": [
    "plot_dataset_statistics(test_dataset, dataset_name=\"Test Dataset\")"
   ]
  },
  {
   "cell_type": "code",
   "execution_count": 20,
   "metadata": {},
   "outputs": [
    {
     "name": "stdout",
     "output_type": "stream",
     "text": [
      "Numero totale di campioni: 2999\n",
      "Distribuzione delle relazioni (A > B, A < B, A = B): {1: 1028, 2: 998, 0: 973}\n",
      "Dimensioni delle immagini trovate nel dataset: {torch.Size([2, 32, 32])}\n",
      "Relazione 1: 1028 campioni (34.28%)\n",
      "Relazione 2: 998 campioni (33.28%)\n",
      "Relazione 0: 973 campioni (32.44%)\n",
      "\n",
      "\n"
     ]
    },
    {
     "data": {
      "image/png": "[encoded data removed]",
      "text/plain": [
       "<Figure size 1000x600 with 1 Axes>"
      ]
     },
     "metadata": {},
     "output_type": "display_data"
    },
    {
     "data": {
      "image/png": "[encoded data removed]",
      "text/plain": [
       "<Figure size 1000x600 with 1 Axes>"
      ]
     },
     "metadata": {},
     "output_type": "display_data"
    }
   ],
   "source": [
    "plot_dataset_statistics(validation_dataset, dataset_name=\"Validation Dataset\")"
   ]
  },
  {
   "cell_type": "code",
   "execution_count": 21,
   "metadata": {},
   "outputs": [],
   "source": [
    "train_loader, validation_loader, test_loader = create_data_loader(train_dataset, validation_dataset, test_dataset, BATCH_SIZE)"
   ]
  },
  {
   "cell_type": "code",
   "execution_count": 22,
   "metadata": {},
   "outputs": [
    {
     "name": "stdout",
     "output_type": "stream",
     "text": [
      "Size train_loader:  469  Size train_dataset:  60000\n",
      "Size validation_loader:  24  Size validation_dataset:  2999\n",
      "Size test_loader:  55  Size test_dataset:  7000\n"
     ]
    }
   ],
   "source": [
    "print(\"Size train_loader: \", len(train_loader), \" Size train_dataset: \", len(train_dataset))\n",
    "print(\"Size validation_loader: \", len(validation_loader), \" Size validation_dataset: \", len(validation_dataset))\n",
    "print(\"Size test_loader: \", len(test_loader), \" Size test_dataset: \", len(test_dataset))"
   ]
  },
  {
   "cell_type": "code",
   "execution_count": 23,
   "metadata": {},
   "outputs": [
    {
     "name": "stdout",
     "output_type": "stream",
     "text": [
      "cpu\n"
     ]
    }
   ],
   "source": [
    "device = torch.device(\"cuda:0\" if torch.cuda.is_available() else \"cpu\")\n",
    "print(device)"
   ]
  },
  {
   "cell_type": "code",
   "execution_count": 24,
   "metadata": {},
   "outputs": [
    {
     "name": "stdout",
     "output_type": "stream",
     "text": [
      "CustomLeNet5(\n",
      "  (conv1): Conv2d(2, 6, kernel_size=(5, 5), stride=(1, 1))\n",
      "  (conv2): Conv2d(6, 16, kernel_size=(5, 5), stride=(1, 1))\n",
      "  (fc1): Linear(in_features=400, out_features=120, bias=True)\n",
      "  (fc2): Linear(in_features=120, out_features=84, bias=True)\n",
      "  (fc3): Linear(in_features=84, out_features=3, bias=True)\n",
      ")\n"
     ]
    }
   ],
   "source": [
    "import torch.nn as nn\n",
    "import torch.nn.functional as F\n",
    "\n",
    "class CustomLeNet5(nn.Module):\n",
    "    def __init__(self):\n",
    "        super(CustomLeNet5, self).__init__()\n",
    "        self.conv1 = nn.Conv2d(2, 6, kernel_size=5)\n",
    "        self.conv2 = nn.Conv2d(6, 16, kernel_size=5)\n",
    "        self.fc1 = nn.Linear(16 * 5 * 5, 120)\n",
    "        self.fc2 = nn.Linear(120, 84)\n",
    "        self.fc3 = nn.Linear(84, 3)\n",
    "\n",
    "    def forward(self, x):\n",
    "        x = F.relu(self.conv1(x))\n",
    "        x = F.max_pool2d(x, 2)\n",
    "        x = F.relu(self.conv2(x))\n",
    "        x = F.max_pool2d(x, 2)\n",
    "        x = x.view(-1, 16 * 5 * 5)\n",
    "        x = F.relu(self.fc1(x))\n",
    "        x = F.relu(self.fc2(x))\n",
    "        x = self.fc3(x)\n",
    "        return x\n",
    "\n",
    "model = CustomLeNet5()\n",
    "print(model)\n"
   ]
  },
  {
   "cell_type": "code",
   "execution_count": 25,
   "metadata": {},
   "outputs": [],
   "source": [
    "# define Loss and Optimizer\n",
    "import torch.optim as optim\n",
    "\n",
    "criterion = nn.CrossEntropyLoss()\n",
    "if OPTIMIZER == 'SGD':\n",
    "    optimizer = optim.SGD(model.parameters(), lr=LEARNING_RATE, momentum=MOMENTUM)\n",
    "elif OPTIMIZER == 'ADAM':\n",
    "    optimizer = optim.Adam(model.parameters(), lr=LEARNING_RATE)"
   ]
  },
  {
   "cell_type": "code",
   "execution_count": 27,
   "metadata": {},
   "outputs": [
    {
     "name": "stdout",
     "output_type": "stream",
     "text": [
      "images dtype: torch.float32, labels dtype: torch.int64\n"
     ]
    },
    {
     "data": {
      "image/png": "[encoded data removed]",
      "text/plain": [
       "<Figure size 600x1000 with 15 Axes>"
      ]
     },
     "metadata": {},
     "output_type": "display_data"
    }
   ],
   "source": [
    "from torch.utils.tensorboard import SummaryWriter\n",
    "\n",
    "if OPTIMIZER == 'SGD':\n",
    "    fileName = f\"runs/log32x32_bs={BATCH_SIZE}_lr={LEARNING_RATE}_e={EPOCHS}_m={MOMENTUM}_aug={AUGMENT_DATASET}_tra={TRANSFORM_DATASET}_opt={OPTIMIZER}\"\n",
    "elif OPTIMIZER == 'ADAM':\n",
    "    fileName = f\"runs/log32x32_bs={BATCH_SIZE}_lr={LEARNING_RATE}_e={EPOCHS}_aug={AUGMENT_DATASET}_tra={TRANSFORM_DATASET}_opt={OPTIMIZER}\"\n",
    "\n",
    "writer = SummaryWriter(fileName)\n",
    "\n",
    "# Ottieni un batch dal dataloader\n",
    "batch = next(iter(train_loader))\n",
    "images, labels = batch\n",
    "\n",
    "# Stampa il tipo di dato di ciascun tensore per debug\n",
    "print(f\"images dtype: {images.dtype}, labels dtype: {labels.dtype}\")\n",
    "\n",
    "writer.add_graph(model, next(iter(train_loader))[0])\n",
    "\n",
    "writer.add_figure('Image_pair', show_dataset(train_loader, 5))"
   ]
  },
  {
   "cell_type": "code",
   "execution_count": 114,
   "metadata": {},
   "outputs": [],
   "source": [
    "# define train and test functions\n",
    "from tqdm import tqdm\n",
    "\n",
    "def train(train_data_loader, model):\n",
    "    print('Training')\n",
    "    train_itr = 0\n",
    "    correct_train = 0\n",
    "    total_train = 0\n",
    "    running_loss = 0.0\n",
    "    train_loss_list = []\n",
    "    train_accuracy_list = []\n",
    "    \n",
    "    # initialize tqdm progress bar\n",
    "    prog_bar = tqdm(train_data_loader, total=len(train_data_loader))\n",
    "    \n",
    "    for i, data in enumerate(prog_bar):\n",
    "        images, labels = data\n",
    "        images, labels = images.to(device), labels.to(device)\n",
    "\n",
    "        optimizer.zero_grad()\n",
    "\n",
    "        outputs = model(images)\n",
    "        _, predicted = torch.max(outputs, 1)\n",
    "\n",
    "        correct_train += (predicted == labels).sum().item()\n",
    "        total_train += labels.size(0)\n",
    "\n",
    "        loss = criterion(outputs, labels)\n",
    "        loss.backward()\n",
    "        optimizer.step()\n",
    "\n",
    "        loss_value = loss.item()\n",
    "        running_loss += loss_value\n",
    "\n",
    "        train_loss_list.append(loss_value)\n",
    "        train_accuracy_list.append(100 * correct_train / total_train)\n",
    "\n",
    "        train_itr += 1\n",
    "    \n",
    "        # update the loss value beside the progress bar for each iteration\n",
    "        prog_bar.set_description(desc=f\"Loss: {loss_value:.4f}\")\n",
    "    return running_loss / len(train_data_loader), 100 * correct_train / total_train, train_loss_list, train_accuracy_list\n",
    "\n",
    "def validate(data_loader, model):\n",
    "    print('Validating')\n",
    "    val_itr = 0\n",
    "    correct = 0\n",
    "    total = 0\n",
    "    running_loss = 0.0\n",
    "    val_loss_list = []\n",
    "    val_accuracy_list = []\n",
    "    \n",
    "    # initialize tqdm progress bar\n",
    "    prog_bar = tqdm(data_loader, total=len(data_loader))\n",
    "    \n",
    "    for i, data in enumerate(prog_bar):\n",
    "        images, labels = data\n",
    "        images, labels = images.to(device), labels.to(device)\n",
    "        \n",
    "        with torch.no_grad():\n",
    "            outputs = model(images)\n",
    "\n",
    "        _, predicted = torch.max(outputs.data, 1)\n",
    "        total += labels.size(0)\n",
    "        correct += (predicted == labels).sum().item()\n",
    "        loss = criterion(outputs, labels)\n",
    "        loss_value = loss.item()\n",
    "        running_loss += loss_value\n",
    "        val_loss_list.append(loss_value)\n",
    "        val_accuracy_list.append(100 * correct / total)\n",
    "        val_itr += 1\n",
    "        # update the loss value beside the progress bar for each iteration\n",
    "        prog_bar.set_description(desc=f\"Loss: {loss_value:.4f}\")\n",
    "    return loss_value, 100 * correct / total, val_loss_list, val_accuracy_list"
   ]
  },
  {
   "cell_type": "code",
   "execution_count": 115,
   "metadata": {},
   "outputs": [
    {
     "name": "stdout",
     "output_type": "stream",
     "text": [
      "\n",
      "EPOCH 1 of 60\n",
      "Training\n"
     ]
    },
    {
     "name": "stderr",
     "output_type": "stream",
     "text": [
      "Loss: 0.4736: 100%|██████████| 469/469 [00:11<00:00, 40.46it/s]\n"
     ]
    },
    {
     "name": "stdout",
     "output_type": "stream",
     "text": [
      "Validating\n"
     ]
    },
    {
     "name": "stderr",
     "output_type": "stream",
     "text": [
      "Loss: 0.4826: 100%|██████████| 24/24 [00:00<00:00, 65.00it/s]\n"
     ]
    },
    {
     "name": "stdout",
     "output_type": "stream",
     "text": [
      "Epoch #1 train loss: 0.634 train accuracy: 72.77\n",
      "Epoch #1 validation loss: 0.483 validation accuracy: 82.93\n",
      "Took 0.200 minutes for epoch 1\n",
      "\n",
      "EPOCH 2 of 60\n",
      "Training\n"
     ]
    },
    {
     "name": "stderr",
     "output_type": "stream",
     "text": [
      "Loss: 0.3851: 100%|██████████| 469/469 [00:10<00:00, 43.08it/s]\n"
     ]
    },
    {
     "name": "stdout",
     "output_type": "stream",
     "text": [
      "Validating\n"
     ]
    },
    {
     "name": "stderr",
     "output_type": "stream",
     "text": [
      "Loss: 0.3547: 100%|██████████| 24/24 [00:00<00:00, 94.02it/s]\n"
     ]
    },
    {
     "name": "stdout",
     "output_type": "stream",
     "text": [
      "Epoch #2 train loss: 0.350 train accuracy: 86.56\n",
      "Epoch #2 validation loss: 0.355 validation accuracy: 89.33\n",
      "Took 0.186 minutes for epoch 2\n",
      "\n",
      "EPOCH 3 of 60\n",
      "Training\n"
     ]
    },
    {
     "name": "stderr",
     "output_type": "stream",
     "text": [
      "Loss: 0.1487: 100%|██████████| 469/469 [00:11<00:00, 41.69it/s]\n"
     ]
    },
    {
     "name": "stdout",
     "output_type": "stream",
     "text": [
      "Validating\n"
     ]
    },
    {
     "name": "stderr",
     "output_type": "stream",
     "text": [
      "Loss: 0.3116: 100%|██████████| 24/24 [00:00<00:00, 92.04it/s]\n"
     ]
    },
    {
     "name": "stdout",
     "output_type": "stream",
     "text": [
      "Epoch #3 train loss: 0.249 train accuracy: 90.74\n",
      "Epoch #3 validation loss: 0.312 validation accuracy: 91.36\n",
      "Took 0.192 minutes for epoch 3\n",
      "\n",
      "EPOCH 4 of 60\n",
      "Training\n"
     ]
    },
    {
     "name": "stderr",
     "output_type": "stream",
     "text": [
      "Loss: 0.1961: 100%|██████████| 469/469 [00:11<00:00, 41.97it/s]\n"
     ]
    },
    {
     "name": "stdout",
     "output_type": "stream",
     "text": [
      "Validating\n"
     ]
    },
    {
     "name": "stderr",
     "output_type": "stream",
     "text": [
      "Loss: 0.3648: 100%|██████████| 24/24 [00:00<00:00, 94.12it/s]\n"
     ]
    },
    {
     "name": "stdout",
     "output_type": "stream",
     "text": [
      "Epoch #4 train loss: 0.197 train accuracy: 92.80\n",
      "Epoch #4 validation loss: 0.365 validation accuracy: 92.03\n",
      "Took 0.191 minutes for epoch 4\n",
      "\n",
      "EPOCH 5 of 60\n",
      "Training\n"
     ]
    },
    {
     "name": "stderr",
     "output_type": "stream",
     "text": [
      "Loss: 0.2538: 100%|██████████| 469/469 [00:11<00:00, 42.37it/s]\n"
     ]
    },
    {
     "name": "stdout",
     "output_type": "stream",
     "text": [
      "Validating\n"
     ]
    },
    {
     "name": "stderr",
     "output_type": "stream",
     "text": [
      "Loss: 0.2491: 100%|██████████| 24/24 [00:00<00:00, 96.89it/s]\n"
     ]
    },
    {
     "name": "stdout",
     "output_type": "stream",
     "text": [
      "Epoch #5 train loss: 0.159 train accuracy: 94.27\n",
      "Epoch #5 validation loss: 0.249 validation accuracy: 93.03\n",
      "Took 0.189 minutes for epoch 5\n",
      "\n",
      "EPOCH 6 of 60\n",
      "Training\n"
     ]
    },
    {
     "name": "stderr",
     "output_type": "stream",
     "text": [
      "Loss: 0.0926: 100%|██████████| 469/469 [00:11<00:00, 42.00it/s]\n"
     ]
    },
    {
     "name": "stdout",
     "output_type": "stream",
     "text": [
      "Validating\n"
     ]
    },
    {
     "name": "stderr",
     "output_type": "stream",
     "text": [
      "Loss: 0.2613: 100%|██████████| 24/24 [00:00<00:00, 96.75it/s]\n"
     ]
    },
    {
     "name": "stdout",
     "output_type": "stream",
     "text": [
      "Epoch #6 train loss: 0.134 train accuracy: 95.16\n",
      "Epoch #6 validation loss: 0.261 validation accuracy: 93.50\n",
      "Took 0.190 minutes for epoch 6\n",
      "\n",
      "EPOCH 7 of 60\n",
      "Training\n"
     ]
    },
    {
     "name": "stderr",
     "output_type": "stream",
     "text": [
      "Loss: 0.0908: 100%|██████████| 469/469 [00:11<00:00, 42.25it/s]\n"
     ]
    },
    {
     "name": "stdout",
     "output_type": "stream",
     "text": [
      "Validating\n"
     ]
    },
    {
     "name": "stderr",
     "output_type": "stream",
     "text": [
      "Loss: 0.2478: 100%|██████████| 24/24 [00:00<00:00, 99.98it/s]\n"
     ]
    },
    {
     "name": "stdout",
     "output_type": "stream",
     "text": [
      "Epoch #7 train loss: 0.114 train accuracy: 95.91\n",
      "Epoch #7 validation loss: 0.248 validation accuracy: 93.70\n",
      "Took 0.189 minutes for epoch 7\n",
      "\n",
      "EPOCH 8 of 60\n",
      "Training\n"
     ]
    },
    {
     "name": "stderr",
     "output_type": "stream",
     "text": [
      "Loss: 0.0516: 100%|██████████| 469/469 [00:12<00:00, 38.83it/s]\n"
     ]
    },
    {
     "name": "stdout",
     "output_type": "stream",
     "text": [
      "Validating\n"
     ]
    },
    {
     "name": "stderr",
     "output_type": "stream",
     "text": [
      "Loss: 0.2578: 100%|██████████| 24/24 [00:00<00:00, 93.37it/s]\n"
     ]
    },
    {
     "name": "stdout",
     "output_type": "stream",
     "text": [
      "Epoch #8 train loss: 0.095 train accuracy: 96.62\n",
      "Epoch #8 validation loss: 0.258 validation accuracy: 94.30\n",
      "Took 0.206 minutes for epoch 8\n",
      "\n",
      "EPOCH 9 of 60\n",
      "Training\n"
     ]
    },
    {
     "name": "stderr",
     "output_type": "stream",
     "text": [
      "Loss: 0.0483: 100%|██████████| 469/469 [00:14<00:00, 32.91it/s]\n"
     ]
    },
    {
     "name": "stdout",
     "output_type": "stream",
     "text": [
      "Validating\n"
     ]
    },
    {
     "name": "stderr",
     "output_type": "stream",
     "text": [
      "Loss: 0.2868: 100%|██████████| 24/24 [00:00<00:00, 77.00it/s]\n"
     ]
    },
    {
     "name": "stdout",
     "output_type": "stream",
     "text": [
      "Epoch #9 train loss: 0.084 train accuracy: 97.03\n",
      "Epoch #9 validation loss: 0.287 validation accuracy: 93.70\n",
      "Took 0.243 minutes for epoch 9\n",
      "\n",
      "EPOCH 10 of 60\n",
      "Training\n"
     ]
    },
    {
     "name": "stderr",
     "output_type": "stream",
     "text": [
      "Loss: 0.0866: 100%|██████████| 469/469 [00:11<00:00, 39.91it/s]\n"
     ]
    },
    {
     "name": "stdout",
     "output_type": "stream",
     "text": [
      "Validating\n"
     ]
    },
    {
     "name": "stderr",
     "output_type": "stream",
     "text": [
      "Loss: 0.2788: 100%|██████████| 24/24 [00:00<00:00, 92.90it/s]\n"
     ]
    },
    {
     "name": "stdout",
     "output_type": "stream",
     "text": [
      "Epoch #10 train loss: 0.074 train accuracy: 97.31\n",
      "Epoch #10 validation loss: 0.279 validation accuracy: 94.50\n",
      "Took 0.200 minutes for epoch 10\n",
      "\n",
      "EPOCH 11 of 60\n",
      "Training\n"
     ]
    },
    {
     "name": "stderr",
     "output_type": "stream",
     "text": [
      "Loss: 0.0877: 100%|██████████| 469/469 [00:11<00:00, 41.82it/s]\n"
     ]
    },
    {
     "name": "stdout",
     "output_type": "stream",
     "text": [
      "Validating\n"
     ]
    },
    {
     "name": "stderr",
     "output_type": "stream",
     "text": [
      "Loss: 0.2380: 100%|██████████| 24/24 [00:00<00:00, 95.53it/s]\n"
     ]
    },
    {
     "name": "stdout",
     "output_type": "stream",
     "text": [
      "Epoch #11 train loss: 0.066 train accuracy: 97.63\n",
      "Epoch #11 validation loss: 0.238 validation accuracy: 94.73\n",
      "Took 0.191 minutes for epoch 11\n",
      "\n",
      "EPOCH 12 of 60\n",
      "Training\n"
     ]
    },
    {
     "name": "stderr",
     "output_type": "stream",
     "text": [
      "Loss: 0.0881: 100%|██████████| 469/469 [00:10<00:00, 43.88it/s]\n"
     ]
    },
    {
     "name": "stdout",
     "output_type": "stream",
     "text": [
      "Validating\n"
     ]
    },
    {
     "name": "stderr",
     "output_type": "stream",
     "text": [
      "Loss: 0.2579: 100%|██████████| 24/24 [00:00<00:00, 93.60it/s]\n"
     ]
    },
    {
     "name": "stdout",
     "output_type": "stream",
     "text": [
      "Epoch #12 train loss: 0.055 train accuracy: 98.01\n",
      "Epoch #12 validation loss: 0.258 validation accuracy: 94.90\n",
      "Took 0.183 minutes for epoch 12\n",
      "\n",
      "EPOCH 13 of 60\n",
      "Training\n"
     ]
    },
    {
     "name": "stderr",
     "output_type": "stream",
     "text": [
      "Loss: 0.0419: 100%|██████████| 469/469 [00:10<00:00, 44.39it/s]\n"
     ]
    },
    {
     "name": "stdout",
     "output_type": "stream",
     "text": [
      "Validating\n"
     ]
    },
    {
     "name": "stderr",
     "output_type": "stream",
     "text": [
      "Loss: 0.2565: 100%|██████████| 24/24 [00:00<00:00, 95.98it/s]\n"
     ]
    },
    {
     "name": "stdout",
     "output_type": "stream",
     "text": [
      "Epoch #13 train loss: 0.050 train accuracy: 98.26\n",
      "Epoch #13 validation loss: 0.257 validation accuracy: 94.50\n",
      "Took 0.180 minutes for epoch 13\n",
      "\n",
      "EPOCH 14 of 60\n",
      "Training\n"
     ]
    },
    {
     "name": "stderr",
     "output_type": "stream",
     "text": [
      "Loss: 0.0407: 100%|██████████| 469/469 [00:10<00:00, 43.11it/s]\n"
     ]
    },
    {
     "name": "stdout",
     "output_type": "stream",
     "text": [
      "Validating\n"
     ]
    },
    {
     "name": "stderr",
     "output_type": "stream",
     "text": [
      "Loss: 0.3456: 100%|██████████| 24/24 [00:00<00:00, 100.74it/s]\n"
     ]
    },
    {
     "name": "stdout",
     "output_type": "stream",
     "text": [
      "Epoch #14 train loss: 0.043 train accuracy: 98.44\n",
      "Epoch #14 validation loss: 0.346 validation accuracy: 94.73\n",
      "Took 0.185 minutes for epoch 14\n",
      "\n",
      "EPOCH 15 of 60\n",
      "Training\n"
     ]
    },
    {
     "name": "stderr",
     "output_type": "stream",
     "text": [
      "Loss: 0.0050: 100%|██████████| 469/469 [00:11<00:00, 42.04it/s]\n"
     ]
    },
    {
     "name": "stdout",
     "output_type": "stream",
     "text": [
      "Validating\n"
     ]
    },
    {
     "name": "stderr",
     "output_type": "stream",
     "text": [
      "Loss: 0.3649: 100%|██████████| 24/24 [00:00<00:00, 95.27it/s]\n"
     ]
    },
    {
     "name": "stdout",
     "output_type": "stream",
     "text": [
      "Epoch #15 train loss: 0.041 train accuracy: 98.60\n",
      "Epoch #15 validation loss: 0.365 validation accuracy: 94.36\n",
      "Took 0.190 minutes for epoch 15\n",
      "\n",
      "EPOCH 16 of 60\n",
      "Training\n"
     ]
    },
    {
     "name": "stderr",
     "output_type": "stream",
     "text": [
      "Loss: 0.0426: 100%|██████████| 469/469 [00:13<00:00, 33.58it/s]\n"
     ]
    },
    {
     "name": "stdout",
     "output_type": "stream",
     "text": [
      "Validating\n"
     ]
    },
    {
     "name": "stderr",
     "output_type": "stream",
     "text": [
      "Loss: 0.2028: 100%|██████████| 24/24 [00:00<00:00, 76.61it/s]\n"
     ]
    },
    {
     "name": "stdout",
     "output_type": "stream",
     "text": [
      "Epoch #16 train loss: 0.037 train accuracy: 98.67\n",
      "Epoch #16 validation loss: 0.203 validation accuracy: 94.33\n",
      "Took 0.238 minutes for epoch 16\n",
      "\n",
      "EPOCH 17 of 60\n",
      "Training\n"
     ]
    },
    {
     "name": "stderr",
     "output_type": "stream",
     "text": [
      "Loss: 0.0400: 100%|██████████| 469/469 [00:13<00:00, 35.00it/s]\n"
     ]
    },
    {
     "name": "stdout",
     "output_type": "stream",
     "text": [
      "Validating\n"
     ]
    },
    {
     "name": "stderr",
     "output_type": "stream",
     "text": [
      "Loss: 0.2821: 100%|██████████| 24/24 [00:00<00:00, 72.98it/s]\n"
     ]
    },
    {
     "name": "stdout",
     "output_type": "stream",
     "text": [
      "Epoch #17 train loss: 0.031 train accuracy: 98.89\n",
      "Epoch #17 validation loss: 0.282 validation accuracy: 94.66\n",
      "Took 0.229 minutes for epoch 17\n",
      "\n",
      "EPOCH 18 of 60\n",
      "Training\n"
     ]
    },
    {
     "name": "stderr",
     "output_type": "stream",
     "text": [
      "Loss: 0.0636: 100%|██████████| 469/469 [00:13<00:00, 35.61it/s]\n"
     ]
    },
    {
     "name": "stdout",
     "output_type": "stream",
     "text": [
      "Validating\n"
     ]
    },
    {
     "name": "stderr",
     "output_type": "stream",
     "text": [
      "Loss: 0.3028: 100%|██████████| 24/24 [00:00<00:00, 78.81it/s]\n"
     ]
    },
    {
     "name": "stdout",
     "output_type": "stream",
     "text": [
      "Epoch #18 train loss: 0.032 train accuracy: 98.83\n",
      "Epoch #18 validation loss: 0.303 validation accuracy: 95.23\n",
      "Took 0.225 minutes for epoch 18\n",
      "\n",
      "EPOCH 19 of 60\n",
      "Training\n"
     ]
    },
    {
     "name": "stderr",
     "output_type": "stream",
     "text": [
      "Loss: 0.0693: 100%|██████████| 469/469 [00:13<00:00, 34.33it/s]\n"
     ]
    },
    {
     "name": "stdout",
     "output_type": "stream",
     "text": [
      "Validating\n"
     ]
    },
    {
     "name": "stderr",
     "output_type": "stream",
     "text": [
      "Loss: 0.3297: 100%|██████████| 24/24 [00:00<00:00, 76.00it/s]\n"
     ]
    },
    {
     "name": "stdout",
     "output_type": "stream",
     "text": [
      "Epoch #19 train loss: 0.027 train accuracy: 99.05\n",
      "Epoch #19 validation loss: 0.330 validation accuracy: 94.60\n",
      "Took 0.233 minutes for epoch 19\n",
      "\n",
      "EPOCH 20 of 60\n",
      "Training\n"
     ]
    },
    {
     "name": "stderr",
     "output_type": "stream",
     "text": [
      "Loss: 0.0864: 100%|██████████| 469/469 [00:13<00:00, 33.73it/s]\n"
     ]
    },
    {
     "name": "stdout",
     "output_type": "stream",
     "text": [
      "Validating\n"
     ]
    },
    {
     "name": "stderr",
     "output_type": "stream",
     "text": [
      "Loss: 0.2748: 100%|██████████| 24/24 [00:00<00:00, 74.92it/s]\n"
     ]
    },
    {
     "name": "stdout",
     "output_type": "stream",
     "text": [
      "Epoch #20 train loss: 0.026 train accuracy: 99.07\n",
      "Epoch #20 validation loss: 0.275 validation accuracy: 94.86\n",
      "Took 0.237 minutes for epoch 20\n",
      "\n",
      "EPOCH 21 of 60\n",
      "Training\n"
     ]
    },
    {
     "name": "stderr",
     "output_type": "stream",
     "text": [
      "Loss: 0.0455: 100%|██████████| 469/469 [00:13<00:00, 34.35it/s]\n"
     ]
    },
    {
     "name": "stdout",
     "output_type": "stream",
     "text": [
      "Validating\n"
     ]
    },
    {
     "name": "stderr",
     "output_type": "stream",
     "text": [
      "Loss: 0.3797: 100%|██████████| 24/24 [00:00<00:00, 78.17it/s]\n"
     ]
    },
    {
     "name": "stdout",
     "output_type": "stream",
     "text": [
      "Epoch #21 train loss: 0.027 train accuracy: 99.01\n",
      "Epoch #21 validation loss: 0.380 validation accuracy: 94.50\n",
      "Took 0.233 minutes for epoch 21\n",
      "\n",
      "EPOCH 22 of 60\n",
      "Training\n"
     ]
    },
    {
     "name": "stderr",
     "output_type": "stream",
     "text": [
      "Loss: 0.0158: 100%|██████████| 469/469 [00:14<00:00, 31.78it/s]\n"
     ]
    },
    {
     "name": "stdout",
     "output_type": "stream",
     "text": [
      "Validating\n"
     ]
    },
    {
     "name": "stderr",
     "output_type": "stream",
     "text": [
      "Loss: 0.3873: 100%|██████████| 24/24 [00:00<00:00, 94.68it/s] \n"
     ]
    },
    {
     "name": "stdout",
     "output_type": "stream",
     "text": [
      "Epoch #22 train loss: 0.023 train accuracy: 99.17\n",
      "Epoch #22 validation loss: 0.387 validation accuracy: 94.73\n",
      "Took 0.250 minutes for epoch 22\n",
      "\n",
      "EPOCH 23 of 60\n",
      "Training\n"
     ]
    },
    {
     "name": "stderr",
     "output_type": "stream",
     "text": [
      "Loss: 0.0610: 100%|██████████| 469/469 [00:12<00:00, 37.65it/s]\n"
     ]
    },
    {
     "name": "stdout",
     "output_type": "stream",
     "text": [
      "Validating\n"
     ]
    },
    {
     "name": "stderr",
     "output_type": "stream",
     "text": [
      "Loss: 0.2967: 100%|██████████| 24/24 [00:00<00:00, 91.03it/s]\n"
     ]
    },
    {
     "name": "stdout",
     "output_type": "stream",
     "text": [
      "Epoch #23 train loss: 0.024 train accuracy: 99.17\n",
      "Epoch #23 validation loss: 0.297 validation accuracy: 94.80\n",
      "Took 0.212 minutes for epoch 23\n",
      "\n",
      "EPOCH 24 of 60\n",
      "Training\n"
     ]
    },
    {
     "name": "stderr",
     "output_type": "stream",
     "text": [
      "Loss: 0.0345: 100%|██████████| 469/469 [00:12<00:00, 38.00it/s]\n"
     ]
    },
    {
     "name": "stdout",
     "output_type": "stream",
     "text": [
      "Validating\n"
     ]
    },
    {
     "name": "stderr",
     "output_type": "stream",
     "text": [
      "Loss: 0.1840: 100%|██████████| 24/24 [00:00<00:00, 82.06it/s]\n"
     ]
    },
    {
     "name": "stdout",
     "output_type": "stream",
     "text": [
      "Epoch #24 train loss: 0.022 train accuracy: 99.22\n",
      "Epoch #24 validation loss: 0.184 validation accuracy: 94.70\n",
      "Took 0.211 minutes for epoch 24\n",
      "\n",
      "EPOCH 25 of 60\n",
      "Training\n"
     ]
    },
    {
     "name": "stderr",
     "output_type": "stream",
     "text": [
      "Loss: 0.0195: 100%|██████████| 469/469 [00:10<00:00, 42.94it/s]\n"
     ]
    },
    {
     "name": "stdout",
     "output_type": "stream",
     "text": [
      "Validating\n"
     ]
    },
    {
     "name": "stderr",
     "output_type": "stream",
     "text": [
      "Loss: 0.4459: 100%|██████████| 24/24 [00:00<00:00, 90.38it/s]\n"
     ]
    },
    {
     "name": "stdout",
     "output_type": "stream",
     "text": [
      "Epoch #25 train loss: 0.020 train accuracy: 99.27\n",
      "Epoch #25 validation loss: 0.446 validation accuracy: 95.10\n",
      "Took 0.187 minutes for epoch 25\n",
      "\n",
      "EPOCH 26 of 60\n",
      "Training\n"
     ]
    },
    {
     "name": "stderr",
     "output_type": "stream",
     "text": [
      "Loss: 0.0775: 100%|██████████| 469/469 [00:13<00:00, 35.95it/s]\n"
     ]
    },
    {
     "name": "stdout",
     "output_type": "stream",
     "text": [
      "Validating\n"
     ]
    },
    {
     "name": "stderr",
     "output_type": "stream",
     "text": [
      "Loss: 0.3910: 100%|██████████| 24/24 [00:00<00:00, 90.26it/s]\n"
     ]
    },
    {
     "name": "stdout",
     "output_type": "stream",
     "text": [
      "Epoch #26 train loss: 0.018 train accuracy: 99.34\n",
      "Epoch #26 validation loss: 0.391 validation accuracy: 95.40\n",
      "Took 0.222 minutes for epoch 26\n",
      "\n",
      "EPOCH 27 of 60\n",
      "Training\n"
     ]
    },
    {
     "name": "stderr",
     "output_type": "stream",
     "text": [
      "Loss: 0.0021: 100%|██████████| 469/469 [00:12<00:00, 38.93it/s]\n"
     ]
    },
    {
     "name": "stdout",
     "output_type": "stream",
     "text": [
      "Validating\n"
     ]
    },
    {
     "name": "stderr",
     "output_type": "stream",
     "text": [
      "Loss: 0.3837: 100%|██████████| 24/24 [00:00<00:00, 79.96it/s]\n"
     ]
    },
    {
     "name": "stdout",
     "output_type": "stream",
     "text": [
      "Epoch #27 train loss: 0.020 train accuracy: 99.33\n",
      "Epoch #27 validation loss: 0.384 validation accuracy: 95.37\n",
      "Took 0.206 minutes for epoch 27\n",
      "\n",
      "EPOCH 28 of 60\n",
      "Training\n"
     ]
    },
    {
     "name": "stderr",
     "output_type": "stream",
     "text": [
      "Loss: 0.0175: 100%|██████████| 469/469 [00:12<00:00, 38.28it/s]\n"
     ]
    },
    {
     "name": "stdout",
     "output_type": "stream",
     "text": [
      "Validating\n"
     ]
    },
    {
     "name": "stderr",
     "output_type": "stream",
     "text": [
      "Loss: 0.5272: 100%|██████████| 24/24 [00:00<00:00, 93.60it/s]\n"
     ]
    },
    {
     "name": "stdout",
     "output_type": "stream",
     "text": [
      "Epoch #28 train loss: 0.016 train accuracy: 99.38\n",
      "Epoch #28 validation loss: 0.527 validation accuracy: 95.47\n",
      "Took 0.209 minutes for epoch 28\n",
      "\n",
      "EPOCH 29 of 60\n",
      "Training\n"
     ]
    },
    {
     "name": "stderr",
     "output_type": "stream",
     "text": [
      "Loss: 0.0061: 100%|██████████| 469/469 [00:12<00:00, 38.47it/s]\n"
     ]
    },
    {
     "name": "stdout",
     "output_type": "stream",
     "text": [
      "Validating\n"
     ]
    },
    {
     "name": "stderr",
     "output_type": "stream",
     "text": [
      "Loss: 0.2591: 100%|██████████| 24/24 [00:00<00:00, 102.72it/s]\n"
     ]
    },
    {
     "name": "stdout",
     "output_type": "stream",
     "text": [
      "Epoch #29 train loss: 0.015 train accuracy: 99.50\n",
      "Epoch #29 validation loss: 0.259 validation accuracy: 94.70\n",
      "Took 0.207 minutes for epoch 29\n",
      "\n",
      "EPOCH 30 of 60\n",
      "Training\n"
     ]
    },
    {
     "name": "stderr",
     "output_type": "stream",
     "text": [
      "Loss: 0.0254: 100%|██████████| 469/469 [00:11<00:00, 40.65it/s]\n"
     ]
    },
    {
     "name": "stdout",
     "output_type": "stream",
     "text": [
      "Validating\n"
     ]
    },
    {
     "name": "stderr",
     "output_type": "stream",
     "text": [
      "Loss: 0.4174: 100%|██████████| 24/24 [00:00<00:00, 69.72it/s]\n"
     ]
    },
    {
     "name": "stdout",
     "output_type": "stream",
     "text": [
      "Epoch #30 train loss: 0.018 train accuracy: 99.33\n",
      "Epoch #30 validation loss: 0.417 validation accuracy: 95.30\n",
      "Took 0.198 minutes for epoch 30\n",
      "\n",
      "EPOCH 31 of 60\n",
      "Training\n"
     ]
    },
    {
     "name": "stderr",
     "output_type": "stream",
     "text": [
      "Loss: 0.0063: 100%|██████████| 469/469 [00:11<00:00, 39.34it/s]\n"
     ]
    },
    {
     "name": "stdout",
     "output_type": "stream",
     "text": [
      "Validating\n"
     ]
    },
    {
     "name": "stderr",
     "output_type": "stream",
     "text": [
      "Loss: 0.4306: 100%|██████████| 24/24 [00:00<00:00, 91.77it/s]\n"
     ]
    },
    {
     "name": "stdout",
     "output_type": "stream",
     "text": [
      "Epoch #31 train loss: 0.018 train accuracy: 99.35\n",
      "Epoch #31 validation loss: 0.431 validation accuracy: 95.03\n",
      "Took 0.203 minutes for epoch 31\n",
      "\n",
      "EPOCH 32 of 60\n",
      "Training\n"
     ]
    },
    {
     "name": "stderr",
     "output_type": "stream",
     "text": [
      "Loss: 0.0092: 100%|██████████| 469/469 [00:13<00:00, 35.89it/s]\n"
     ]
    },
    {
     "name": "stdout",
     "output_type": "stream",
     "text": [
      "Validating\n"
     ]
    },
    {
     "name": "stderr",
     "output_type": "stream",
     "text": [
      "Loss: 0.1670: 100%|██████████| 24/24 [00:00<00:00, 73.05it/s]\n"
     ]
    },
    {
     "name": "stdout",
     "output_type": "stream",
     "text": [
      "Epoch #32 train loss: 0.016 train accuracy: 99.45\n",
      "Epoch #32 validation loss: 0.167 validation accuracy: 95.07\n",
      "Took 0.223 minutes for epoch 32\n",
      "\n",
      "EPOCH 33 of 60\n",
      "Training\n"
     ]
    },
    {
     "name": "stderr",
     "output_type": "stream",
     "text": [
      "Loss: 0.0375: 100%|██████████| 469/469 [00:14<00:00, 31.97it/s]\n"
     ]
    },
    {
     "name": "stdout",
     "output_type": "stream",
     "text": [
      "Validating\n"
     ]
    },
    {
     "name": "stderr",
     "output_type": "stream",
     "text": [
      "Loss: 0.4153: 100%|██████████| 24/24 [00:00<00:00, 75.22it/s]\n"
     ]
    },
    {
     "name": "stdout",
     "output_type": "stream",
     "text": [
      "Epoch #33 train loss: 0.018 train accuracy: 99.39\n",
      "Epoch #33 validation loss: 0.415 validation accuracy: 95.23\n",
      "Took 0.250 minutes for epoch 33\n",
      "\n",
      "EPOCH 34 of 60\n",
      "Training\n"
     ]
    },
    {
     "name": "stderr",
     "output_type": "stream",
     "text": [
      "Loss: 0.0042: 100%|██████████| 469/469 [00:13<00:00, 33.51it/s]\n"
     ]
    },
    {
     "name": "stdout",
     "output_type": "stream",
     "text": [
      "Validating\n"
     ]
    },
    {
     "name": "stderr",
     "output_type": "stream",
     "text": [
      "Loss: 0.1668: 100%|██████████| 24/24 [00:00<00:00, 73.78it/s]\n"
     ]
    },
    {
     "name": "stdout",
     "output_type": "stream",
     "text": [
      "Epoch #34 train loss: 0.012 train accuracy: 99.54\n",
      "Epoch #34 validation loss: 0.167 validation accuracy: 95.27\n",
      "Took 0.239 minutes for epoch 34\n",
      "\n",
      "EPOCH 35 of 60\n",
      "Training\n"
     ]
    },
    {
     "name": "stderr",
     "output_type": "stream",
     "text": [
      "Loss: 0.0073: 100%|██████████| 469/469 [00:13<00:00, 35.82it/s]\n"
     ]
    },
    {
     "name": "stdout",
     "output_type": "stream",
     "text": [
      "Validating\n"
     ]
    },
    {
     "name": "stderr",
     "output_type": "stream",
     "text": [
      "Loss: 0.3967: 100%|██████████| 24/24 [00:00<00:00, 70.07it/s]\n"
     ]
    },
    {
     "name": "stdout",
     "output_type": "stream",
     "text": [
      "Epoch #35 train loss: 0.013 train accuracy: 99.56\n",
      "Epoch #35 validation loss: 0.397 validation accuracy: 95.43\n",
      "Took 0.224 minutes for epoch 35\n",
      "\n",
      "EPOCH 36 of 60\n",
      "Training\n"
     ]
    },
    {
     "name": "stderr",
     "output_type": "stream",
     "text": [
      "Loss: 0.0559: 100%|██████████| 469/469 [00:12<00:00, 36.37it/s]\n"
     ]
    },
    {
     "name": "stdout",
     "output_type": "stream",
     "text": [
      "Validating\n"
     ]
    },
    {
     "name": "stderr",
     "output_type": "stream",
     "text": [
      "Loss: 0.3817: 100%|██████████| 24/24 [00:00<00:00, 78.31it/s]\n"
     ]
    },
    {
     "name": "stdout",
     "output_type": "stream",
     "text": [
      "Epoch #36 train loss: 0.022 train accuracy: 99.28\n",
      "Epoch #36 validation loss: 0.382 validation accuracy: 95.43\n",
      "Took 0.220 minutes for epoch 36\n",
      "\n",
      "EPOCH 37 of 60\n",
      "Training\n"
     ]
    },
    {
     "name": "stderr",
     "output_type": "stream",
     "text": [
      "Loss: 0.0055: 100%|██████████| 469/469 [00:12<00:00, 36.20it/s]\n"
     ]
    },
    {
     "name": "stdout",
     "output_type": "stream",
     "text": [
      "Validating\n"
     ]
    },
    {
     "name": "stderr",
     "output_type": "stream",
     "text": [
      "Loss: 0.4816: 100%|██████████| 24/24 [00:00<00:00, 51.14it/s]\n"
     ]
    },
    {
     "name": "stdout",
     "output_type": "stream",
     "text": [
      "Epoch #37 train loss: 0.011 train accuracy: 99.61\n",
      "Epoch #37 validation loss: 0.482 validation accuracy: 95.63\n",
      "Took 0.224 minutes for epoch 37\n",
      "\n",
      "EPOCH 38 of 60\n",
      "Training\n"
     ]
    },
    {
     "name": "stderr",
     "output_type": "stream",
     "text": [
      "Loss: 0.0004: 100%|██████████| 469/469 [00:12<00:00, 36.12it/s]\n"
     ]
    },
    {
     "name": "stdout",
     "output_type": "stream",
     "text": [
      "Validating\n"
     ]
    },
    {
     "name": "stderr",
     "output_type": "stream",
     "text": [
      "Loss: 0.4577: 100%|██████████| 24/24 [00:00<00:00, 75.97it/s]\n"
     ]
    },
    {
     "name": "stdout",
     "output_type": "stream",
     "text": [
      "Epoch #38 train loss: 0.011 train accuracy: 99.65\n",
      "Epoch #38 validation loss: 0.458 validation accuracy: 95.00\n",
      "Took 0.222 minutes for epoch 38\n",
      "\n",
      "EPOCH 39 of 60\n",
      "Training\n"
     ]
    },
    {
     "name": "stderr",
     "output_type": "stream",
     "text": [
      "Loss: 0.0045: 100%|██████████| 469/469 [00:13<00:00, 35.23it/s]\n"
     ]
    },
    {
     "name": "stdout",
     "output_type": "stream",
     "text": [
      "Validating\n"
     ]
    },
    {
     "name": "stderr",
     "output_type": "stream",
     "text": [
      "Loss: 0.1928: 100%|██████████| 24/24 [00:00<00:00, 84.48it/s]\n"
     ]
    },
    {
     "name": "stdout",
     "output_type": "stream",
     "text": [
      "Epoch #39 train loss: 0.019 train accuracy: 99.37\n",
      "Epoch #39 validation loss: 0.193 validation accuracy: 95.87\n",
      "Took 0.227 minutes for epoch 39\n",
      "\n",
      "EPOCH 40 of 60\n",
      "Training\n"
     ]
    },
    {
     "name": "stderr",
     "output_type": "stream",
     "text": [
      "Loss: 0.0136: 100%|██████████| 469/469 [00:12<00:00, 36.87it/s]\n"
     ]
    },
    {
     "name": "stdout",
     "output_type": "stream",
     "text": [
      "Validating\n"
     ]
    },
    {
     "name": "stderr",
     "output_type": "stream",
     "text": [
      "Loss: 0.3732: 100%|██████████| 24/24 [00:00<00:00, 77.01it/s]\n"
     ]
    },
    {
     "name": "stdout",
     "output_type": "stream",
     "text": [
      "Epoch #40 train loss: 0.011 train accuracy: 99.63\n",
      "Epoch #40 validation loss: 0.373 validation accuracy: 95.37\n",
      "Took 0.217 minutes for epoch 40\n",
      "\n",
      "EPOCH 41 of 60\n",
      "Training\n"
     ]
    },
    {
     "name": "stderr",
     "output_type": "stream",
     "text": [
      "Loss: 0.0183: 100%|██████████| 469/469 [00:12<00:00, 36.36it/s]\n"
     ]
    },
    {
     "name": "stdout",
     "output_type": "stream",
     "text": [
      "Validating\n"
     ]
    },
    {
     "name": "stderr",
     "output_type": "stream",
     "text": [
      "Loss: 0.3193: 100%|██████████| 24/24 [00:00<00:00, 72.35it/s]\n"
     ]
    },
    {
     "name": "stdout",
     "output_type": "stream",
     "text": [
      "Epoch #41 train loss: 0.015 train accuracy: 99.47\n",
      "Epoch #41 validation loss: 0.319 validation accuracy: 95.53\n",
      "Took 0.221 minutes for epoch 41\n",
      "\n",
      "EPOCH 42 of 60\n",
      "Training\n"
     ]
    },
    {
     "name": "stderr",
     "output_type": "stream",
     "text": [
      "Loss: 0.0216: 100%|██████████| 469/469 [00:14<00:00, 32.43it/s]\n"
     ]
    },
    {
     "name": "stdout",
     "output_type": "stream",
     "text": [
      "Validating\n"
     ]
    },
    {
     "name": "stderr",
     "output_type": "stream",
     "text": [
      "Loss: 0.5671: 100%|██████████| 24/24 [00:00<00:00, 69.40it/s]\n"
     ]
    },
    {
     "name": "stdout",
     "output_type": "stream",
     "text": [
      "Epoch #42 train loss: 0.011 train accuracy: 99.59\n",
      "Epoch #42 validation loss: 0.567 validation accuracy: 94.96\n",
      "Took 0.247 minutes for epoch 42\n",
      "\n",
      "EPOCH 43 of 60\n",
      "Training\n"
     ]
    },
    {
     "name": "stderr",
     "output_type": "stream",
     "text": [
      "Loss: 0.0056: 100%|██████████| 469/469 [00:13<00:00, 33.74it/s]\n"
     ]
    },
    {
     "name": "stdout",
     "output_type": "stream",
     "text": [
      "Validating\n"
     ]
    },
    {
     "name": "stderr",
     "output_type": "stream",
     "text": [
      "Loss: 0.1964: 100%|██████████| 24/24 [00:00<00:00, 42.22it/s]\n"
     ]
    },
    {
     "name": "stdout",
     "output_type": "stream",
     "text": [
      "Epoch #43 train loss: 0.013 train accuracy: 99.55\n",
      "Epoch #43 validation loss: 0.196 validation accuracy: 94.83\n",
      "Took 0.241 minutes for epoch 43\n",
      "\n",
      "EPOCH 44 of 60\n",
      "Training\n"
     ]
    },
    {
     "name": "stderr",
     "output_type": "stream",
     "text": [
      "Loss: 0.0003: 100%|██████████| 469/469 [00:14<00:00, 32.18it/s]\n"
     ]
    },
    {
     "name": "stdout",
     "output_type": "stream",
     "text": [
      "Validating\n"
     ]
    },
    {
     "name": "stderr",
     "output_type": "stream",
     "text": [
      "Loss: 0.2060: 100%|██████████| 24/24 [00:00<00:00, 70.62it/s]\n"
     ]
    },
    {
     "name": "stdout",
     "output_type": "stream",
     "text": [
      "Epoch #44 train loss: 0.014 train accuracy: 99.53\n",
      "Epoch #44 validation loss: 0.206 validation accuracy: 95.33\n",
      "Took 0.249 minutes for epoch 44\n",
      "\n",
      "EPOCH 45 of 60\n",
      "Training\n"
     ]
    },
    {
     "name": "stderr",
     "output_type": "stream",
     "text": [
      "Loss: 0.0117: 100%|██████████| 469/469 [00:14<00:00, 33.47it/s]\n"
     ]
    },
    {
     "name": "stdout",
     "output_type": "stream",
     "text": [
      "Validating\n"
     ]
    },
    {
     "name": "stderr",
     "output_type": "stream",
     "text": [
      "Loss: 0.3959: 100%|██████████| 24/24 [00:00<00:00, 59.44it/s]\n"
     ]
    },
    {
     "name": "stdout",
     "output_type": "stream",
     "text": [
      "Epoch #45 train loss: 0.017 train accuracy: 99.46\n",
      "Epoch #45 validation loss: 0.396 validation accuracy: 95.30\n",
      "Took 0.241 minutes for epoch 45\n",
      "\n",
      "EPOCH 46 of 60\n",
      "Training\n"
     ]
    },
    {
     "name": "stderr",
     "output_type": "stream",
     "text": [
      "Loss: 0.0121: 100%|██████████| 469/469 [00:13<00:00, 35.52it/s]\n"
     ]
    },
    {
     "name": "stdout",
     "output_type": "stream",
     "text": [
      "Validating\n"
     ]
    },
    {
     "name": "stderr",
     "output_type": "stream",
     "text": [
      "Loss: 0.2575: 100%|██████████| 24/24 [00:00<00:00, 77.87it/s]\n"
     ]
    },
    {
     "name": "stdout",
     "output_type": "stream",
     "text": [
      "Epoch #46 train loss: 0.011 train accuracy: 99.65\n",
      "Epoch #46 validation loss: 0.258 validation accuracy: 95.23\n",
      "Took 0.225 minutes for epoch 46\n",
      "\n",
      "EPOCH 47 of 60\n",
      "Training\n"
     ]
    },
    {
     "name": "stderr",
     "output_type": "stream",
     "text": [
      "Loss: 0.0003: 100%|██████████| 469/469 [00:12<00:00, 36.12it/s]\n"
     ]
    },
    {
     "name": "stdout",
     "output_type": "stream",
     "text": [
      "Validating\n"
     ]
    },
    {
     "name": "stderr",
     "output_type": "stream",
     "text": [
      "Loss: 0.2251: 100%|██████████| 24/24 [00:00<00:00, 51.76it/s]\n"
     ]
    },
    {
     "name": "stdout",
     "output_type": "stream",
     "text": [
      "Epoch #47 train loss: 0.011 train accuracy: 99.61\n",
      "Epoch #47 validation loss: 0.225 validation accuracy: 95.03\n",
      "Took 0.224 minutes for epoch 47\n",
      "\n",
      "EPOCH 48 of 60\n",
      "Training\n"
     ]
    },
    {
     "name": "stderr",
     "output_type": "stream",
     "text": [
      "Loss: 0.0031: 100%|██████████| 469/469 [00:13<00:00, 35.32it/s]\n"
     ]
    },
    {
     "name": "stdout",
     "output_type": "stream",
     "text": [
      "Validating\n"
     ]
    },
    {
     "name": "stderr",
     "output_type": "stream",
     "text": [
      "Loss: 0.3425: 100%|██████████| 24/24 [00:00<00:00, 75.99it/s]\n"
     ]
    },
    {
     "name": "stdout",
     "output_type": "stream",
     "text": [
      "Epoch #48 train loss: 0.011 train accuracy: 99.65\n",
      "Epoch #48 validation loss: 0.343 validation accuracy: 94.83\n",
      "Took 0.227 minutes for epoch 48\n",
      "\n",
      "EPOCH 49 of 60\n",
      "Training\n"
     ]
    },
    {
     "name": "stderr",
     "output_type": "stream",
     "text": [
      "Loss: 0.0005: 100%|██████████| 469/469 [00:13<00:00, 35.77it/s]\n"
     ]
    },
    {
     "name": "stdout",
     "output_type": "stream",
     "text": [
      "Validating\n"
     ]
    },
    {
     "name": "stderr",
     "output_type": "stream",
     "text": [
      "Loss: 0.1517: 100%|██████████| 24/24 [00:00<00:00, 76.55it/s]\n"
     ]
    },
    {
     "name": "stdout",
     "output_type": "stream",
     "text": [
      "Epoch #49 train loss: 0.010 train accuracy: 99.66\n",
      "Epoch #49 validation loss: 0.152 validation accuracy: 94.73\n",
      "Took 0.224 minutes for epoch 49\n",
      "\n",
      "EPOCH 50 of 60\n",
      "Training\n"
     ]
    },
    {
     "name": "stderr",
     "output_type": "stream",
     "text": [
      "Loss: 0.0003: 100%|██████████| 469/469 [00:12<00:00, 36.12it/s]\n"
     ]
    },
    {
     "name": "stdout",
     "output_type": "stream",
     "text": [
      "Validating\n"
     ]
    },
    {
     "name": "stderr",
     "output_type": "stream",
     "text": [
      "Loss: 0.4734: 100%|██████████| 24/24 [00:00<00:00, 79.82it/s]\n"
     ]
    },
    {
     "name": "stdout",
     "output_type": "stream",
     "text": [
      "Epoch #50 train loss: 0.015 train accuracy: 99.50\n",
      "Epoch #50 validation loss: 0.473 validation accuracy: 95.67\n",
      "Took 0.222 minutes for epoch 50\n",
      "\n",
      "EPOCH 51 of 60\n",
      "Training\n"
     ]
    },
    {
     "name": "stderr",
     "output_type": "stream",
     "text": [
      "Loss: 0.0002: 100%|██████████| 469/469 [00:13<00:00, 35.30it/s]\n"
     ]
    },
    {
     "name": "stdout",
     "output_type": "stream",
     "text": [
      "Validating\n"
     ]
    },
    {
     "name": "stderr",
     "output_type": "stream",
     "text": [
      "Loss: 0.6426: 100%|██████████| 24/24 [00:00<00:00, 76.69it/s]\n"
     ]
    },
    {
     "name": "stdout",
     "output_type": "stream",
     "text": [
      "Epoch #51 train loss: 0.010 train accuracy: 99.65\n",
      "Epoch #51 validation loss: 0.643 validation accuracy: 95.40\n",
      "Took 0.227 minutes for epoch 51\n",
      "\n",
      "EPOCH 52 of 60\n",
      "Training\n"
     ]
    },
    {
     "name": "stderr",
     "output_type": "stream",
     "text": [
      "Loss: 0.0202: 100%|██████████| 469/469 [00:14<00:00, 33.25it/s]\n"
     ]
    },
    {
     "name": "stdout",
     "output_type": "stream",
     "text": [
      "Validating\n"
     ]
    },
    {
     "name": "stderr",
     "output_type": "stream",
     "text": [
      "Loss: 0.6093: 100%|██████████| 24/24 [00:00<00:00, 72.89it/s]\n"
     ]
    },
    {
     "name": "stdout",
     "output_type": "stream",
     "text": [
      "Epoch #52 train loss: 0.012 train accuracy: 99.58\n",
      "Epoch #52 validation loss: 0.609 validation accuracy: 95.30\n",
      "Took 0.241 minutes for epoch 52\n",
      "\n",
      "EPOCH 53 of 60\n",
      "Training\n"
     ]
    },
    {
     "name": "stderr",
     "output_type": "stream",
     "text": [
      "Loss: 0.0036: 100%|██████████| 469/469 [00:13<00:00, 33.67it/s]\n"
     ]
    },
    {
     "name": "stdout",
     "output_type": "stream",
     "text": [
      "Validating\n"
     ]
    },
    {
     "name": "stderr",
     "output_type": "stream",
     "text": [
      "Loss: 0.4207: 100%|██████████| 24/24 [00:00<00:00, 49.73it/s]\n"
     ]
    },
    {
     "name": "stdout",
     "output_type": "stream",
     "text": [
      "Epoch #53 train loss: 0.013 train accuracy: 99.56\n",
      "Epoch #53 validation loss: 0.421 validation accuracy: 95.53\n",
      "Took 0.240 minutes for epoch 53\n",
      "\n",
      "EPOCH 54 of 60\n",
      "Training\n"
     ]
    },
    {
     "name": "stderr",
     "output_type": "stream",
     "text": [
      "Loss: 0.0220: 100%|██████████| 469/469 [00:13<00:00, 33.95it/s]\n"
     ]
    },
    {
     "name": "stdout",
     "output_type": "stream",
     "text": [
      "Validating\n"
     ]
    },
    {
     "name": "stderr",
     "output_type": "stream",
     "text": [
      "Loss: 0.1947: 100%|██████████| 24/24 [00:00<00:00, 42.16it/s]\n"
     ]
    },
    {
     "name": "stdout",
     "output_type": "stream",
     "text": [
      "Epoch #54 train loss: 0.006 train accuracy: 99.79\n",
      "Epoch #54 validation loss: 0.195 validation accuracy: 95.50\n",
      "Took 0.240 minutes for epoch 54\n",
      "\n",
      "EPOCH 55 of 60\n",
      "Training\n"
     ]
    },
    {
     "name": "stderr",
     "output_type": "stream",
     "text": [
      "Loss: 0.0130: 100%|██████████| 469/469 [00:15<00:00, 29.32it/s]\n"
     ]
    },
    {
     "name": "stdout",
     "output_type": "stream",
     "text": [
      "Validating\n"
     ]
    },
    {
     "name": "stderr",
     "output_type": "stream",
     "text": [
      "Loss: 0.3769: 100%|██████████| 24/24 [00:00<00:00, 76.65it/s]\n"
     ]
    },
    {
     "name": "stdout",
     "output_type": "stream",
     "text": [
      "Epoch #55 train loss: 0.016 train accuracy: 99.50\n",
      "Epoch #55 validation loss: 0.377 validation accuracy: 95.13\n",
      "Took 0.272 minutes for epoch 55\n",
      "\n",
      "EPOCH 56 of 60\n",
      "Training\n"
     ]
    },
    {
     "name": "stderr",
     "output_type": "stream",
     "text": [
      "Loss: 0.0010: 100%|██████████| 469/469 [00:14<00:00, 32.01it/s]\n"
     ]
    },
    {
     "name": "stdout",
     "output_type": "stream",
     "text": [
      "Validating\n"
     ]
    },
    {
     "name": "stderr",
     "output_type": "stream",
     "text": [
      "Loss: 0.2616: 100%|██████████| 24/24 [00:00<00:00, 72.75it/s]\n"
     ]
    },
    {
     "name": "stdout",
     "output_type": "stream",
     "text": [
      "Epoch #56 train loss: 0.013 train accuracy: 99.60\n",
      "Epoch #56 validation loss: 0.262 validation accuracy: 95.43\n",
      "Took 0.250 minutes for epoch 56\n",
      "\n",
      "EPOCH 57 of 60\n",
      "Training\n"
     ]
    },
    {
     "name": "stderr",
     "output_type": "stream",
     "text": [
      "Loss: 0.0172: 100%|██████████| 469/469 [00:13<00:00, 33.57it/s]\n"
     ]
    },
    {
     "name": "stdout",
     "output_type": "stream",
     "text": [
      "Validating\n"
     ]
    },
    {
     "name": "stderr",
     "output_type": "stream",
     "text": [
      "Loss: 0.2234: 100%|██████████| 24/24 [00:00<00:00, 41.61it/s]\n"
     ]
    },
    {
     "name": "stdout",
     "output_type": "stream",
     "text": [
      "Epoch #57 train loss: 0.008 train accuracy: 99.78\n",
      "Epoch #57 validation loss: 0.223 validation accuracy: 95.33\n",
      "Took 0.243 minutes for epoch 57\n",
      "\n",
      "EPOCH 58 of 60\n",
      "Training\n"
     ]
    },
    {
     "name": "stderr",
     "output_type": "stream",
     "text": [
      "Loss: 0.0238: 100%|██████████| 469/469 [00:15<00:00, 29.34it/s]\n"
     ]
    },
    {
     "name": "stdout",
     "output_type": "stream",
     "text": [
      "Validating\n"
     ]
    },
    {
     "name": "stderr",
     "output_type": "stream",
     "text": [
      "Loss: 0.2177: 100%|██████████| 24/24 [00:00<00:00, 65.22it/s]\n"
     ]
    },
    {
     "name": "stdout",
     "output_type": "stream",
     "text": [
      "Epoch #58 train loss: 0.008 train accuracy: 99.73\n",
      "Epoch #58 validation loss: 0.218 validation accuracy: 95.53\n",
      "Took 0.273 minutes for epoch 58\n",
      "\n",
      "EPOCH 59 of 60\n",
      "Training\n"
     ]
    },
    {
     "name": "stderr",
     "output_type": "stream",
     "text": [
      "Loss: 0.0008: 100%|██████████| 469/469 [00:15<00:00, 30.54it/s]\n"
     ]
    },
    {
     "name": "stdout",
     "output_type": "stream",
     "text": [
      "Validating\n"
     ]
    },
    {
     "name": "stderr",
     "output_type": "stream",
     "text": [
      "Loss: 0.1148: 100%|██████████| 24/24 [00:00<00:00, 54.58it/s]\n"
     ]
    },
    {
     "name": "stdout",
     "output_type": "stream",
     "text": [
      "Epoch #59 train loss: 0.011 train accuracy: 99.64\n",
      "Epoch #59 validation loss: 0.115 validation accuracy: 95.27\n",
      "Took 0.264 minutes for epoch 59\n",
      "\n",
      "EPOCH 60 of 60\n",
      "Training\n"
     ]
    },
    {
     "name": "stderr",
     "output_type": "stream",
     "text": [
      "Loss: 0.0049: 100%|██████████| 469/469 [00:16<00:00, 29.00it/s]\n"
     ]
    },
    {
     "name": "stdout",
     "output_type": "stream",
     "text": [
      "Validating\n"
     ]
    },
    {
     "name": "stderr",
     "output_type": "stream",
     "text": [
      "Loss: 0.3497: 100%|██████████| 24/24 [00:00<00:00, 61.79it/s]\n"
     ]
    },
    {
     "name": "stdout",
     "output_type": "stream",
     "text": [
      "Epoch #60 train loss: 0.010 train accuracy: 99.69\n",
      "Epoch #60 validation loss: 0.350 validation accuracy: 95.63\n",
      "Took 0.276 minutes for epoch 60\n",
      "Validating\n"
     ]
    },
    {
     "name": "stderr",
     "output_type": "stream",
     "text": [
      "Loss: 0.5125: 100%|██████████| 55/55 [00:01<00:00, 49.00it/s]"
     ]
    },
    {
     "name": "stdout",
     "output_type": "stream",
     "text": [
      "Test loss: 0.512 Test accuracy: 95.19\n"
     ]
    },
    {
     "name": "stderr",
     "output_type": "stream",
     "text": [
      "\n"
     ]
    }
   ],
   "source": [
    "# TRAIN!!!\n",
    "import time\n",
    "model.train()\n",
    "train_losses = []\n",
    "val_losses = []\n",
    "train_accuracies = []\n",
    "val_accuracies = []\n",
    "total_val_loss = []\n",
    "total_val_acc = []\n",
    "total_train_loss = []\n",
    "total_train_acc = []\n",
    "for epoch in range(EPOCHS):\n",
    "        print(f\"\\nEPOCH {epoch+1} of {EPOCHS}\")\n",
    "\n",
    "        # start timer and carry out training and validation\n",
    "        start = time.time()\n",
    "        train_loss, train_acc, train_loss_list, train_acc_list = train(train_loader, model)\n",
    "        val_loss, val_acc, val_loss_list, val_acc_list = validate(validation_loader, model)\n",
    "        train_losses.append(train_loss)\n",
    "        val_losses.append(val_loss)\n",
    "        train_accuracies.append(train_acc)\n",
    "        val_accuracies.append(val_acc)\n",
    "        total_train_loss.extend(train_loss_list)\n",
    "        total_train_acc.extend(train_acc_list)\n",
    "        total_val_loss.extend(val_loss_list)\n",
    "        total_val_acc.extend(val_acc_list)\n",
    "        print(f\"Epoch #{epoch+1} train loss: {train_loss:.3f} train accuracy: {train_acc:.2f}\")   \n",
    "        print(f\"Epoch #{epoch+1} validation loss: {val_loss:.3f} validation accuracy: {val_acc:.2f}\")   \n",
    "        end = time.time()\n",
    "        print(f\"Took {((end - start) / 60):.3f} minutes for epoch {epoch+1}\")\n",
    "        writer.add_scalars('Loss', {\n",
    "                'Train': train_loss,\n",
    "                'Validation': val_loss\n",
    "        }, epoch + 1)\n",
    "        \n",
    "        writer.add_scalars('Accuracy', {\n",
    "                'Train': train_acc,\n",
    "                'Validation': val_acc\n",
    "        }, epoch + 1)\n",
    "\n",
    "# Valida il modello appena trainato con il test set\n",
    "model.eval()\n",
    "test_loss, test_acc, _, _ = validate(test_loader, model)\n",
    "print(f\"Test loss: {test_loss:.3f} Test accuracy: {test_acc:.2f}\")\n",
    "writer.add_scalar('Test Loss', test_loss)\n",
    "writer.add_scalar('Test Accuracy', test_acc)\n"
   ]
  },
  {
   "cell_type": "code",
   "execution_count": 116,
   "metadata": {},
   "outputs": [
    {
     "name": "stdout",
     "output_type": "stream",
     "text": [
      "131 previsioni errate trovate.\n"
     ]
    },
    {
     "data": {
      "image/png": "[encoded data removed]",
      "text/plain": [
       "<Figure size 600x2000 with 30 Axes>"
      ]
     },
     "metadata": {},
     "output_type": "display_data"
    }
   ],
   "source": [
    "def show_incorrect_predictions(model, dataloader, num_images=5):\n",
    "    model.eval()\n",
    "    all_images = []\n",
    "    all_labels = []\n",
    "    all_preds = []\n",
    "\n",
    "    # Itera su tutti i batch nel dataloader\n",
    "    with torch.no_grad():\n",
    "        for images, labels in dataloader:\n",
    "            outputs = model(images.to(device))\n",
    "            _, predicted = torch.max(outputs, 1)\n",
    "            \n",
    "            all_images.append(images.cpu())\n",
    "            all_labels.append(labels.cpu())\n",
    "            all_preds.append(predicted.cpu())\n",
    "\n",
    "    # Concatena tutti i batch raccolti\n",
    "    all_images = torch.cat(all_images)\n",
    "    all_labels = torch.cat(all_labels)\n",
    "    all_preds = torch.cat(all_preds)\n",
    "\n",
    "    # Trova gli indici delle previsioni errate\n",
    "    incorrect_predictions = (all_preds != all_labels).nonzero(as_tuple=True)[0]\n",
    "\n",
    "    print(f\"{len(incorrect_predictions)} previsioni errate trovate.\")\n",
    "\n",
    "    if len(incorrect_predictions) == 0:\n",
    "        print(\"Nessuna previsione errata trovata.\")\n",
    "        return\n",
    "\n",
    "    # Limita il numero di immagini errate da mostrare\n",
    "    num_images = min(num_images, len(incorrect_predictions))\n",
    "\n",
    "    fig, axes = plt.subplots(num_images, 3, figsize=(6, num_images * 2))\n",
    "    relation_labels = {0: 'A > B', 1: 'A < B', 2: 'A = B'}\n",
    "    \n",
    "    for idx, i in enumerate(incorrect_predictions[:num_images]):\n",
    "        img_A = all_images[i][0, :, :]\n",
    "        img_B = all_images[i][1, :, :]\n",
    "        pred_label = all_preds[i].item()\n",
    "        true_label = all_labels[i].item()\n",
    "\n",
    "        # Mostra l'immagine A\n",
    "        axes[idx, 0].imshow(img_A, cmap='gray')\n",
    "        axes[idx, 0].set_title('Image A')\n",
    "        axes[idx, 0].axis('off')\n",
    "\n",
    "        # Mostra l'etichetta di relazione prevista e reale\n",
    "        axes[idx, 1].text(0.5, 0.5, f'Pred: {relation_labels[pred_label]}\\nTrue: {relation_labels[true_label]}', \n",
    "                          fontsize=12, ha='center', va='center')\n",
    "        axes[idx, 1].axis('off')\n",
    "\n",
    "        # Mostra l'immagine B\n",
    "        axes[idx, 2].imshow(img_B, cmap='gray')\n",
    "        axes[idx, 2].set_title('Image B')\n",
    "        axes[idx, 2].axis('off')\n",
    "\n",
    "    plt.tight_layout()\n",
    "    plt.show()\n",
    "    return fig\n",
    "\n",
    "# Visualizza alcune previsioni errate\n",
    "writer.add_figure('Incorrect_predictions', show_incorrect_predictions(model, validation_loader, num_images=10))\n",
    "#show_incorrect_predictions(model, validation_loader, num_images=5)\n"
   ]
  },
  {
   "cell_type": "code",
   "execution_count": 117,
   "metadata": {},
   "outputs": [
    {
     "data": {
      "image/png": "[encoded data removed]",
      "text/plain": [
       "<Figure size 600x400 with 2 Axes>"
      ]
     },
     "metadata": {},
     "output_type": "display_data"
    },
    {
     "data": {
      "image/png": "[encoded data removed]",
      "text/plain": [
       "<Figure size 600x400 with 2 Axes>"
      ]
     },
     "metadata": {},
     "output_type": "display_data"
    }
   ],
   "source": [
    "# Funzione per calcolare e stampare la matrice di confusione normalizzata\n",
    "def plot_confusion_matrix(model, dataloader, device):\n",
    "    model.eval()\n",
    "    all_preds = []\n",
    "    all_labels = []\n",
    "\n",
    "    # Disabilita i gradienti per velocizzare il calcolo\n",
    "    with torch.no_grad():\n",
    "        for images, labels in dataloader:\n",
    "            images, labels = images.to(device), labels.to(device)\n",
    "\n",
    "            outputs = model(images)\n",
    "            _, predicted = torch.max(outputs, 1)\n",
    "\n",
    "            all_preds.extend(predicted.cpu().numpy())\n",
    "            all_labels.extend(labels.cpu().numpy())\n",
    "\n",
    "    # Crea la matrice di confusione\n",
    "    cm = confusion_matrix(all_labels, all_preds)\n",
    "    \n",
    "    # Normalizza la matrice di confusione\n",
    "    cm_normalized = cm.astype('float') / cm.sum(axis=1)[:, np.newaxis]  # Normalizza per ogni riga (classe vera)\n",
    "    \n",
    "    # Visualizza la matrice di confusione normalizzata in percentuale\n",
    "    fig = plt.figure(figsize=(6, 4))\n",
    "    sns.heatmap(cm_normalized * 100, annot=True, fmt=\".2f\", cmap=\"Blues\", \n",
    "                xticklabels=['A > B', 'A < B', 'A = B'], \n",
    "                yticklabels=['A > B', 'A < B', 'A = B'])\n",
    "    \n",
    "    plt.xlabel('Predicted')\n",
    "    plt.ylabel('True')\n",
    "    plt.title('Confusion Matrix (in %)')\n",
    "    plt.show()\n",
    "\n",
    "    return fig\n",
    "\n",
    "# Calcola e visualizza la matrice di confusione\n",
    "writer.add_figure('Confusion_matrix_validation', plot_confusion_matrix(model, validation_loader, device))\n",
    "writer.add_figure('Confusion_matrix_test', plot_confusion_matrix(model, test_loader, device))\n",
    "#plot_confusion_matrix(model, test_loader, device)\n"
   ]
  },
  {
   "cell_type": "code",
   "execution_count": 118,
   "metadata": {},
   "outputs": [
    {
     "name": "stdout",
     "output_type": "stream",
     "text": [
      "              precision    recall  f1-score   support\n",
      "\n",
      "       A > B       0.96      0.95      0.95      2330\n",
      "       A < B       0.95      0.95      0.95      2357\n",
      "       A = B       0.95      0.96      0.95      2313\n",
      "\n",
      "    accuracy                           0.95      7000\n",
      "   macro avg       0.95      0.95      0.95      7000\n",
      "weighted avg       0.95      0.95      0.95      7000\n",
      "\n"
     ]
    }
   ],
   "source": [
    "def classification_metrics(model, dataloader, device):\n",
    "    model.eval()\n",
    "    all_preds = []\n",
    "    all_labels = []\n",
    "\n",
    "    # Disabilita i gradienti per velocizzare il calcolo\n",
    "    with torch.no_grad():\n",
    "        for images, labels in dataloader:\n",
    "            images, labels = images.to(device), labels.to(device)\n",
    "\n",
    "            outputs = model(images)\n",
    "            _, predicted = torch.max(outputs, 1)\n",
    "\n",
    "            all_preds.extend(predicted.cpu().numpy())\n",
    "            all_labels.extend(labels.cpu().numpy())\n",
    "\n",
    "    # Genera il report di classificazione\n",
    "    report = classification_report(all_labels, all_preds, target_names=['A > B', 'A < B', 'A = B'])\n",
    "    print(report)\n",
    "\n",
    "# Stampa il report delle metriche\n",
    "classification_metrics(model, test_loader, device)\n"
   ]
  },
  {
   "cell_type": "markdown",
   "metadata": {},
   "source": [
    "Precision: Il numero di veri positivi diviso per il numero di esempi che sono stati predetti come positivi.\n",
    "Recall (Sensibilità): Il numero di veri positivi diviso per il numero di esempi che appartengono effettivamente alla classe positiva.\n",
    "F1-Score: La media armonica tra precisione e recall. È utile quando hai un dataset squilibrato.\n",
    "Support: Il numero di campioni effettivi per ogni classe."
   ]
  },
  {
   "cell_type": "code",
   "execution_count": 119,
   "metadata": {},
   "outputs": [
    {
     "name": "stdout",
     "output_type": "stream",
     "text": [
      "Notebook saved as run32x32_BS=128_LR=0.001_EPOCHS=60_AUG=False_TRA=False_OPT=ADAM.ipynb\n"
     ]
    }
   ],
   "source": [
    "# Funzione per salvare una copia del notebook\n",
    "def save_notebook_copy(notebook_name='main.ipynb'):\n",
    "    # Leggi il notebook attuale\n",
    "    with open(notebook_name, 'r') as f:\n",
    "        notebook_content = nbformat.read(f, as_version=4)\n",
    "    \n",
    "    if OPTIMIZER == 'SGD':\n",
    "        new_notebook_name = f\"run32x32_BS={BATCH_SIZE}_LR={LEARNING_RATE}_MOM={MOMENTUM}_EPOCHS={EPOCHS}_AUG={AUGMENT_DATASET}_TRA={TRANSFORM_DATASET}_OPT={OPTIMIZER}.ipynb\"\n",
    "    elif OPTIMIZER == 'ADAM':\n",
    "        new_notebook_name = f\"run32x32_BS={BATCH_SIZE}_LR={LEARNING_RATE}_EPOCHS={EPOCHS}_AUG={AUGMENT_DATASET}_TRA={TRANSFORM_DATASET}_OPT={OPTIMIZER}.ipynb\"\n",
    "    \n",
    "    # Salva il notebook con il nuovo nome\n",
    "    with open(new_notebook_name, 'w') as f:\n",
    "        nbformat.write(notebook_content, f)\n",
    "    print(f\"Notebook saved as {new_notebook_name}\")\n",
    "\n",
    "# Specifica il nome del notebook attuale\n",
    "save_notebook_copy('main.ipynb')\n"
   ]
  },
  {
   "cell_type": "code",
   "execution_count": 120,
   "metadata": {},
   "outputs": [],
   "source": [
    "writer.close()"
   ]
  }
 ],
 "metadata": {
  "kernelspec": {
   "display_name": "pytorch",
   "language": "python",
   "name": "python3"
  },
  "language_info": {
   "codemirror_mode": {
    "name": "ipython",
    "version": 3
   },
   "file_extension": ".py",
   "mimetype": "text/x-python",
   "name": "python",
   "nbconvert_exporter": "python",
   "pygments_lexer": "ipython3",
   "version": "3.11.5"
  }
 },
 "nbformat": 4,
 "nbformat_minor": 2
}
