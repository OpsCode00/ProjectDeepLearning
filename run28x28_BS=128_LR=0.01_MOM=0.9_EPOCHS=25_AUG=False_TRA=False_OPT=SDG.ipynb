{
 "cells": [
  {
   "cell_type": "code",
   "execution_count": 1,
   "metadata": {},
   "outputs": [],
   "source": [
    "import torch\n",
    "from torchvision import datasets, transforms\n",
    "import random\n",
    "import matplotlib.pyplot as plt\n",
    "import seaborn as sns\n",
    "from sklearn.metrics import confusion_matrix, classification_report\n",
    "import numpy as np\n",
    "import nbformat\n",
    "import os\n",
    "import collections\n",
    "\n",
    "PRINT_IMG = True\n",
    "AUGMENT_DATASET = False\n",
    "TRANSFORM_DATASET = False\n",
    "\n",
    "### Hyperparameters ###\n",
    "BATCH_SIZE = 128\n",
    "LEARNING_RATE = 0.008\n",
    "MOMENTUM = 0.9\n",
    "EPOCHS = 25"
   ]
  },
  {
   "cell_type": "code",
   "execution_count": 2,
   "metadata": {},
   "outputs": [],
   "source": [
    "def create_image_pairs(dataset):\n",
    "    image_pairs = []\n",
    "    labels = []\n",
    "\n",
    "    max_size_class = len(dataset) // 3  # Limita il numero massimo di campioni per ciascuna classe\n",
    "    count_class_0 = 0  # Contatore per la classe A > B\n",
    "    count_class_1 = 0  # Contatore per la classe A < B\n",
    "    count_class_2 = 0  # Contatore per la classe A = B\n",
    "    i = 0\n",
    "    \n",
    "    # Continua finché tutte le classi non sono bilanciate\n",
    "    while count_class_0 < max_size_class or count_class_1 < max_size_class or count_class_2 < max_size_class:\n",
    "        img_A, label_A = dataset[i]\n",
    "\n",
    "        class_busy = True\n",
    "        while class_busy:  # Cerca una relazione valida che non sia satura\n",
    "            idx_B = random.randint(0, len(dataset) - 1)\n",
    "            img_B, label_B = dataset[idx_B]\n",
    "\n",
    "            # Determina la relazione tra le etichette\n",
    "            if label_A > label_B:\n",
    "                relation_label = 0  # A > B\n",
    "            elif label_A < label_B:\n",
    "                relation_label = 1  # A < B\n",
    "            else:\n",
    "                relation_label = 2  # A = B\n",
    "\n",
    "            # Verifica se la classe ha già raggiunto il limite massimo\n",
    "            if relation_label == 0 and count_class_0 < max_size_class:\n",
    "                count_class_0 += 1\n",
    "                class_busy = False\n",
    "            elif relation_label == 1 and count_class_1 < max_size_class:\n",
    "                count_class_1 += 1\n",
    "                class_busy = False\n",
    "            elif relation_label == 2 and count_class_2 < max_size_class:\n",
    "                count_class_2 += 1\n",
    "                class_busy = False\n",
    "\n",
    "        # Aggiungi la coppia solo se la classe non ha raggiunto il limite massimo\n",
    "        image_pairs.append((img_A, img_B))\n",
    "        labels.append(relation_label)\n",
    "        i += 1\n",
    "\n",
    "    return image_pairs, labels\n"
   ]
  },
  {
   "cell_type": "code",
   "execution_count": 3,
   "metadata": {},
   "outputs": [],
   "source": [
    "# Dataset personalizzato per gestire le coppie di immagini\n",
    "class MNISTPairDataset(torch.utils.data.Dataset):\n",
    "    def __init__(self, dataset):\n",
    "        self.image_pairs, self.labels = create_image_pairs(dataset)\n",
    "\n",
    "    def __len__(self):\n",
    "        return len(self.image_pairs)\n",
    "\n",
    "    def __getitem__(self, idx):\n",
    "        img_A, img_B = self.image_pairs[idx]\n",
    "        label = self.labels[idx]\n",
    "\n",
    "        # Concatenare le immagini lungo il canale (depth)\n",
    "        concatenated_image = torch.cat((img_A, img_B), dim=0)\n",
    "\n",
    "        return concatenated_image, label\n"
   ]
  },
  {
   "cell_type": "code",
   "execution_count": 4,
   "metadata": {},
   "outputs": [],
   "source": [
    "# Funzione per visualizzare una coppia di immagini e la loro etichetta di relazione\n",
    "def show_image_pair(img_A, img_B, relation_label):\n",
    "    relation_labels = {0: 'A > B', 1: 'A < B', 2: 'A = B'}\n",
    "\n",
    "    # Converte il tensore in numpy array per visualizzazione\n",
    "    img_A = img_A.squeeze().numpy()  # Rimuove la dimensione del canale\n",
    "    img_B = img_B.squeeze().numpy()\n",
    "\n",
    "    # Crea una figura con due immagini, riducendo la dimensione per occupare meno spazio\n",
    "    fig, axes = plt.subplots(1, 2, figsize=(4, 4))  # Dimensioni ridotte\n",
    "\n",
    "    # Mostra le immagini\n",
    "    axes[0].imshow(img_A, cmap='gray')\n",
    "    axes[0].set_title('Image A')\n",
    "    axes[0].axis('off')  # Rimuove gli assi\n",
    "\n",
    "    axes[1].imshow(img_B, cmap='gray')\n",
    "    axes[1].set_title('Image B')\n",
    "    axes[1].axis('off')  # Rimuove gli assi\n",
    "\n",
    "    # Riduce lo spazio tra i subplots\n",
    "    plt.tight_layout(pad=0.5)  # Riduce il padding tra le immagini\n",
    "\n",
    "    # Mostra il titolo della relazione\n",
    "    plt.suptitle(f'Relation: {relation_labels[relation_label]}', y=0.85)  # Posiziona il titolo più vicino\n",
    "    plt.show()\n"
   ]
  },
  {
   "cell_type": "code",
   "execution_count": 5,
   "metadata": {},
   "outputs": [],
   "source": [
    "# Funzione per visualizzare più coppie di immagini in un'unica figura\n",
    "def show_dataset(dataset, num_images=5):\n",
    "    dataiter = iter(dataset)\n",
    "    images, labels = next(dataiter)\n",
    "\n",
    "    # Mappa delle etichette di relazione\n",
    "    relation_labels = {0: 'A > B', 1: 'A < B', 2: 'A = B'}\n",
    "\n",
    "    # Numero di righe: ogni riga contiene 1 coppia di immagini (2 colonne)\n",
    "    num_rows = num_images  # 1 coppia per riga\n",
    "\n",
    "    # Crea una griglia di subplots: num_rows righe, 3 colonne (Image A, Relation, Image B)\n",
    "    fig, axes = plt.subplots(num_rows, 3, figsize=(6, num_rows * 2))\n",
    "    \n",
    "    for i in range(num_images):\n",
    "        concatenated_image = images[i]\n",
    "        label = labels[i].item()\n",
    "\n",
    "        img_A = concatenated_image[0, :, :]\n",
    "        img_B = concatenated_image[1, :, :]\n",
    "\n",
    "        # Mostra l'immagine A nel subplot\n",
    "        axes[i, 0].imshow(img_A, cmap='gray')\n",
    "        axes[i, 0].set_title('Image A')\n",
    "        axes[i, 0].axis('off')\n",
    "\n",
    "        # Mostra l'etichetta di relazione nel subplot centrale\n",
    "        axes[i, 1].text(0.5, 0.5, f'Relation: {relation_labels[label]}', \n",
    "                        fontsize=12, ha='center', va='center')\n",
    "        axes[i, 1].axis('off')\n",
    "\n",
    "        # Mostra l'immagine B nel subplot\n",
    "        axes[i, 2].imshow(img_B, cmap='gray')\n",
    "        axes[i, 2].set_title('Image B')\n",
    "        axes[i, 2].axis('off')  # Nascondi gli assi\n",
    "\n",
    "    # Applica il layout compatto per ridurre lo spazio tra i subplot\n",
    "    plt.tight_layout(pad=0.5)\n",
    "    plt.show()\n",
    "    return fig\n"
   ]
  },
  {
   "cell_type": "code",
   "execution_count": 6,
   "metadata": {},
   "outputs": [],
   "source": [
    "def dataset_statistics(dataset):\n",
    "    class_counts = collections.Counter()\n",
    "    image_shapes = set()\n",
    "    pair_relations_counts = collections.Counter()\n",
    "\n",
    "    for img_pair, label in dataset:\n",
    "        # Aggiorna la distribuzione delle classi\n",
    "        pair_relations_counts[label] += 1\n",
    "\n",
    "        # Controlla la dimensione delle immagini\n",
    "        image_shapes.add(img_pair.shape)\n",
    "\n",
    "    # Riassumi le informazioni\n",
    "    total_samples = len(dataset)\n",
    "    class_distribution = dict(pair_relations_counts)\n",
    "\n",
    "    print(f\"Numero totale di campioni: {total_samples}\")\n",
    "    print(f\"Distribuzione delle relazioni (A > B, A < B, A = B): {class_distribution}\")\n",
    "    print(f\"Dimensioni delle immagini trovate nel dataset: {image_shapes}\")\n",
    "\n",
    "    # Calcolo delle percentuali delle classi\n",
    "    for relation, count in class_distribution.items():\n",
    "        percentage = (count / total_samples) * 100\n",
    "        print(f\"Relazione {relation}: {count} campioni ({percentage:.2f}%)\")\n",
    "    \n",
    "    print(\"\\n\")\n",
    "    return class_distribution, image_shapes\n"
   ]
  },
  {
   "cell_type": "code",
   "execution_count": 7,
   "metadata": {},
   "outputs": [],
   "source": [
    "import matplotlib.pyplot as plt\n",
    "import seaborn as sns\n",
    "\n",
    "def plot_dataset_statistics(dataset, dataset_name=\"Dataset\"):\n",
    "    # Ottieni le statistiche con la funzione precedente\n",
    "    class_distribution, image_shapes = dataset_statistics(dataset)\n",
    "    \n",
    "    # Imposta uno stile per i grafici\n",
    "    sns.set(style=\"whitegrid\")\n",
    "    \n",
    "    # 1. Istogramma della distribuzione delle classi (relazioni A > B, A < B, A = B)\n",
    "    plt.figure(figsize=(10, 6))\n",
    "    classes = ['A > B', 'A < B', 'A = B']\n",
    "    counts = [class_distribution.get(0, 0), class_distribution.get(1, 0), class_distribution.get(2, 0)]\n",
    "    \n",
    "    sns.barplot(x=classes, y=counts, hue=classes, palette='viridis', dodge=False, legend=False)\n",
    "    plt.title(f'Distribuzione delle Relazioni nel {dataset_name}', fontsize=16)\n",
    "    plt.ylabel('Numero di campioni')\n",
    "    plt.xlabel('Relazioni tra le immagini')\n",
    "    plt.show()\n",
    "    \n",
    "    # 3. Box plot per esplorare la distribuzione delle classi in percentuale\n",
    "    plt.figure(figsize=(10, 6))\n",
    "    percentages = [(count / len(dataset)) * 100 for count in counts]\n",
    "    sns.barplot(x=classes, y=percentages, hue=classes, palette='coolwarm', dodge=False, legend=False)\n",
    "    plt.title(f'Percentuale di Relazioni nel {dataset_name}', fontsize=16)\n",
    "    plt.ylabel('Percentuale (%)')\n",
    "    plt.xlabel('Relazioni tra le immagini')\n",
    "    plt.show()"
   ]
  },
  {
   "cell_type": "code",
   "execution_count": 8,
   "metadata": {},
   "outputs": [],
   "source": [
    "# Definisci la funzione per aggiungere rumore gaussiano\n",
    "def add_gaussian_noise(tensor, mean=0.0, std=0.05):\n",
    "    return tensor + std * torch.randn_like(tensor) + mean"
   ]
  },
  {
   "cell_type": "code",
   "execution_count": 9,
   "metadata": {},
   "outputs": [],
   "source": [
    "# Definisci la funzione per invertire i colori\n",
    "def invert_colors(tensor):\n",
    "    return 1 - tensor"
   ]
  },
  {
   "cell_type": "code",
   "execution_count": 10,
   "metadata": {},
   "outputs": [],
   "source": [
    "def create_train_dataset(transform_dataset=False, augment_dataset=False):\n",
    "    transform_norm = transforms.Compose([\n",
    "        transforms.ToTensor(),\n",
    "        transforms.Normalize((0.1307,), (0.3081,))])\n",
    "\n",
    "    transform_augmented = transforms.Compose([\n",
    "        transforms.RandomAffine(degrees=20, translate=(0.1, 0.1), scale=(0.8, 1.2)),\n",
    "        transforms.ToTensor(),\n",
    "        transforms.RandomChoice([\n",
    "            transforms.Lambda(lambda x: add_gaussian_noise(x)),\n",
    "            transforms.Lambda(lambda x: invert_colors(x)),\n",
    "            transforms.Lambda(lambda x: x),\n",
    "        ]),\n",
    "        transforms.Normalize((0.1307,), (0.3081,))\n",
    "    ])\n",
    "\n",
    "    train_dataset = datasets.MNIST(root='./data', train=True, download=True,\n",
    "                               transform=transform_norm)\n",
    "    \n",
    "    train_dataset_augmented = datasets.MNIST(root='./data', train=True, download=True,\n",
    "                               transform=transform_augmented)\n",
    "\n",
    "    train_pair_dataset = MNISTPairDataset(train_dataset)\n",
    "    train_pair_dataset_augmented = MNISTPairDataset(train_dataset_augmented)\n",
    "\n",
    "    print(f\"Dimensione del dataset originale: {len(train_pair_dataset)}\")\n",
    "    print(f\"Dimensione del dataset trasformato: {len(train_pair_dataset_augmented)}\")\n",
    "\n",
    "    if augment_dataset:\n",
    "        train_pair_dataset = torch.utils.data.ConcatDataset([train_pair_dataset, train_pair_dataset_augmented])\n",
    "        print(f\"Dimensione del dataset combinato: {len(train_pair_dataset)}\")\n",
    "    \n",
    "    if transform_dataset:\n",
    "        train_pair_dataset = train_pair_dataset_augmented\n",
    "\n",
    "    return train_pair_dataset\n"
   ]
  },
  {
   "cell_type": "code",
   "execution_count": 11,
   "metadata": {},
   "outputs": [],
   "source": [
    "def create_test_dataset(validation_split=0.2):\n",
    "    transform_norm = transforms.Compose([\n",
    "        transforms.ToTensor(),\n",
    "        transforms.Normalize((0.1307,), (0.3081,))])\n",
    "    \n",
    "    test_dataset = datasets.MNIST(root='./data', train=False, download=True, transform=transform_norm)\n",
    "\n",
    "    test_pair_dataset = MNISTPairDataset(test_dataset)\n",
    "\n",
    "    total_test_size = len(test_pair_dataset)\n",
    " \n",
    "    validation_size = int(total_test_size * validation_split)\n",
    "    test_size = total_test_size - validation_size\n",
    "\n",
    "    test_subset, validation_subset = torch.utils.data.random_split(test_pair_dataset, [test_size, validation_size])\n",
    "    return test_subset, validation_subset"
   ]
  },
  {
   "cell_type": "code",
   "execution_count": 12,
   "metadata": {},
   "outputs": [],
   "source": [
    "def create_data_loader(train_dataset, validation_dataset, test_dataset, batch_size):\n",
    "    train_loader = torch.utils.data.DataLoader(train_dataset, batch_size=batch_size, shuffle=True)\n",
    "    validation_loader = torch.utils.data.DataLoader(validation_dataset, batch_size=batch_size, shuffle=False)\n",
    "    test_loader = torch.utils.data.DataLoader(test_dataset, batch_size=batch_size, shuffle=False)\n",
    "    return train_loader, validation_loader, test_loader"
   ]
  },
  {
   "cell_type": "code",
   "execution_count": 13,
   "metadata": {},
   "outputs": [
    {
     "ename": "KeyboardInterrupt",
     "evalue": "",
     "output_type": "error",
     "traceback": [
      "\u001b[0;31m---------------------------------------------------------------------------\u001b[0m",
      "\u001b[0;31mKeyboardInterrupt\u001b[0m                         Traceback (most recent call last)",
      "Cell \u001b[0;32mIn[13], line 1\u001b[0m\n\u001b[0;32m----> 1\u001b[0m train_dataset \u001b[38;5;241m=\u001b[39m \u001b[43mcreate_train_dataset\u001b[49m\u001b[43m(\u001b[49m\u001b[43mTRANSFORM_DATASET\u001b[49m\u001b[43m,\u001b[49m\u001b[43m \u001b[49m\u001b[43mAUGMENT_DATASET\u001b[49m\u001b[43m)\u001b[49m\n\u001b[1;32m      2\u001b[0m test_dataset, validation_dataset \u001b[38;5;241m=\u001b[39m create_test_dataset(validation_split\u001b[38;5;241m=\u001b[39m\u001b[38;5;241m0.3\u001b[39m)\n",
      "Cell \u001b[0;32mIn[10], line 24\u001b[0m, in \u001b[0;36mcreate_train_dataset\u001b[0;34m(transform_dataset, augment_dataset)\u001b[0m\n\u001b[1;32m     20\u001b[0m train_dataset_augmented \u001b[38;5;241m=\u001b[39m datasets\u001b[38;5;241m.\u001b[39mMNIST(root\u001b[38;5;241m=\u001b[39m\u001b[38;5;124m'\u001b[39m\u001b[38;5;124m./data\u001b[39m\u001b[38;5;124m'\u001b[39m, train\u001b[38;5;241m=\u001b[39m\u001b[38;5;28;01mTrue\u001b[39;00m, download\u001b[38;5;241m=\u001b[39m\u001b[38;5;28;01mTrue\u001b[39;00m,\n\u001b[1;32m     21\u001b[0m                            transform\u001b[38;5;241m=\u001b[39mtransform_augmented)\n\u001b[1;32m     23\u001b[0m train_pair_dataset \u001b[38;5;241m=\u001b[39m MNISTPairDataset(train_dataset)\n\u001b[0;32m---> 24\u001b[0m train_pair_dataset_augmented \u001b[38;5;241m=\u001b[39m \u001b[43mMNISTPairDataset\u001b[49m\u001b[43m(\u001b[49m\u001b[43mtrain_dataset_augmented\u001b[49m\u001b[43m)\u001b[49m\n\u001b[1;32m     26\u001b[0m \u001b[38;5;28mprint\u001b[39m(\u001b[38;5;124mf\u001b[39m\u001b[38;5;124m\"\u001b[39m\u001b[38;5;124mDimensione del dataset originale: \u001b[39m\u001b[38;5;132;01m{\u001b[39;00m\u001b[38;5;28mlen\u001b[39m(train_pair_dataset)\u001b[38;5;132;01m}\u001b[39;00m\u001b[38;5;124m\"\u001b[39m)\n\u001b[1;32m     27\u001b[0m \u001b[38;5;28mprint\u001b[39m(\u001b[38;5;124mf\u001b[39m\u001b[38;5;124m\"\u001b[39m\u001b[38;5;124mDimensione del dataset trasformato: \u001b[39m\u001b[38;5;132;01m{\u001b[39;00m\u001b[38;5;28mlen\u001b[39m(train_pair_dataset_augmented)\u001b[38;5;132;01m}\u001b[39;00m\u001b[38;5;124m\"\u001b[39m)\n",
      "Cell \u001b[0;32mIn[3], line 4\u001b[0m, in \u001b[0;36mMNISTPairDataset.__init__\u001b[0;34m(self, dataset)\u001b[0m\n\u001b[1;32m      3\u001b[0m \u001b[38;5;28;01mdef\u001b[39;00m \u001b[38;5;21m__init__\u001b[39m(\u001b[38;5;28mself\u001b[39m, dataset):\n\u001b[0;32m----> 4\u001b[0m     \u001b[38;5;28mself\u001b[39m\u001b[38;5;241m.\u001b[39mimage_pairs, \u001b[38;5;28mself\u001b[39m\u001b[38;5;241m.\u001b[39mlabels \u001b[38;5;241m=\u001b[39m \u001b[43mcreate_image_pairs\u001b[49m\u001b[43m(\u001b[49m\u001b[43mdataset\u001b[49m\u001b[43m)\u001b[49m\n",
      "Cell \u001b[0;32mIn[2], line 13\u001b[0m, in \u001b[0;36mcreate_image_pairs\u001b[0;34m(dataset)\u001b[0m\n\u001b[1;32m     11\u001b[0m \u001b[38;5;66;03m# Continua finché tutte le classi non sono bilanciate\u001b[39;00m\n\u001b[1;32m     12\u001b[0m \u001b[38;5;28;01mwhile\u001b[39;00m count_class_0 \u001b[38;5;241m<\u001b[39m max_size_class \u001b[38;5;129;01mor\u001b[39;00m count_class_1 \u001b[38;5;241m<\u001b[39m max_size_class \u001b[38;5;129;01mor\u001b[39;00m count_class_2 \u001b[38;5;241m<\u001b[39m max_size_class:\n\u001b[0;32m---> 13\u001b[0m     img_A, label_A \u001b[38;5;241m=\u001b[39m \u001b[43mdataset\u001b[49m\u001b[43m[\u001b[49m\u001b[43mi\u001b[49m\u001b[43m]\u001b[49m\n\u001b[1;32m     15\u001b[0m     class_busy \u001b[38;5;241m=\u001b[39m \u001b[38;5;28;01mTrue\u001b[39;00m\n\u001b[1;32m     16\u001b[0m     \u001b[38;5;28;01mwhile\u001b[39;00m class_busy:  \u001b[38;5;66;03m# Cerca una relazione valida che non sia satura\u001b[39;00m\n",
      "File \u001b[0;32m~/miniconda3/envs/pytorch/lib/python3.11/site-packages/torchvision/datasets/mnist.py:145\u001b[0m, in \u001b[0;36mMNIST.__getitem__\u001b[0;34m(self, index)\u001b[0m\n\u001b[1;32m    142\u001b[0m img \u001b[38;5;241m=\u001b[39m Image\u001b[38;5;241m.\u001b[39mfromarray(img\u001b[38;5;241m.\u001b[39mnumpy(), mode\u001b[38;5;241m=\u001b[39m\u001b[38;5;124m\"\u001b[39m\u001b[38;5;124mL\u001b[39m\u001b[38;5;124m\"\u001b[39m)\n\u001b[1;32m    144\u001b[0m \u001b[38;5;28;01mif\u001b[39;00m \u001b[38;5;28mself\u001b[39m\u001b[38;5;241m.\u001b[39mtransform \u001b[38;5;129;01mis\u001b[39;00m \u001b[38;5;129;01mnot\u001b[39;00m \u001b[38;5;28;01mNone\u001b[39;00m:\n\u001b[0;32m--> 145\u001b[0m     img \u001b[38;5;241m=\u001b[39m \u001b[38;5;28;43mself\u001b[39;49m\u001b[38;5;241;43m.\u001b[39;49m\u001b[43mtransform\u001b[49m\u001b[43m(\u001b[49m\u001b[43mimg\u001b[49m\u001b[43m)\u001b[49m\n\u001b[1;32m    147\u001b[0m \u001b[38;5;28;01mif\u001b[39;00m \u001b[38;5;28mself\u001b[39m\u001b[38;5;241m.\u001b[39mtarget_transform \u001b[38;5;129;01mis\u001b[39;00m \u001b[38;5;129;01mnot\u001b[39;00m \u001b[38;5;28;01mNone\u001b[39;00m:\n\u001b[1;32m    148\u001b[0m     target \u001b[38;5;241m=\u001b[39m \u001b[38;5;28mself\u001b[39m\u001b[38;5;241m.\u001b[39mtarget_transform(target)\n",
      "File \u001b[0;32m~/miniconda3/envs/pytorch/lib/python3.11/site-packages/torchvision/transforms/transforms.py:95\u001b[0m, in \u001b[0;36mCompose.__call__\u001b[0;34m(self, img)\u001b[0m\n\u001b[1;32m     93\u001b[0m \u001b[38;5;28;01mdef\u001b[39;00m \u001b[38;5;21m__call__\u001b[39m(\u001b[38;5;28mself\u001b[39m, img):\n\u001b[1;32m     94\u001b[0m     \u001b[38;5;28;01mfor\u001b[39;00m t \u001b[38;5;129;01min\u001b[39;00m \u001b[38;5;28mself\u001b[39m\u001b[38;5;241m.\u001b[39mtransforms:\n\u001b[0;32m---> 95\u001b[0m         img \u001b[38;5;241m=\u001b[39m \u001b[43mt\u001b[49m\u001b[43m(\u001b[49m\u001b[43mimg\u001b[49m\u001b[43m)\u001b[49m\n\u001b[1;32m     96\u001b[0m     \u001b[38;5;28;01mreturn\u001b[39;00m img\n",
      "File \u001b[0;32m~/miniconda3/envs/pytorch/lib/python3.11/site-packages/torch/nn/modules/module.py:1518\u001b[0m, in \u001b[0;36mModule._wrapped_call_impl\u001b[0;34m(self, *args, **kwargs)\u001b[0m\n\u001b[1;32m   1516\u001b[0m     \u001b[38;5;28;01mreturn\u001b[39;00m \u001b[38;5;28mself\u001b[39m\u001b[38;5;241m.\u001b[39m_compiled_call_impl(\u001b[38;5;241m*\u001b[39margs, \u001b[38;5;241m*\u001b[39m\u001b[38;5;241m*\u001b[39mkwargs)  \u001b[38;5;66;03m# type: ignore[misc]\u001b[39;00m\n\u001b[1;32m   1517\u001b[0m \u001b[38;5;28;01melse\u001b[39;00m:\n\u001b[0;32m-> 1518\u001b[0m     \u001b[38;5;28;01mreturn\u001b[39;00m \u001b[38;5;28;43mself\u001b[39;49m\u001b[38;5;241;43m.\u001b[39;49m\u001b[43m_call_impl\u001b[49m\u001b[43m(\u001b[49m\u001b[38;5;241;43m*\u001b[39;49m\u001b[43margs\u001b[49m\u001b[43m,\u001b[49m\u001b[43m \u001b[49m\u001b[38;5;241;43m*\u001b[39;49m\u001b[38;5;241;43m*\u001b[39;49m\u001b[43mkwargs\u001b[49m\u001b[43m)\u001b[49m\n",
      "File \u001b[0;32m~/miniconda3/envs/pytorch/lib/python3.11/site-packages/torch/nn/modules/module.py:1527\u001b[0m, in \u001b[0;36mModule._call_impl\u001b[0;34m(self, *args, **kwargs)\u001b[0m\n\u001b[1;32m   1522\u001b[0m \u001b[38;5;66;03m# If we don't have any hooks, we want to skip the rest of the logic in\u001b[39;00m\n\u001b[1;32m   1523\u001b[0m \u001b[38;5;66;03m# this function, and just call forward.\u001b[39;00m\n\u001b[1;32m   1524\u001b[0m \u001b[38;5;28;01mif\u001b[39;00m \u001b[38;5;129;01mnot\u001b[39;00m (\u001b[38;5;28mself\u001b[39m\u001b[38;5;241m.\u001b[39m_backward_hooks \u001b[38;5;129;01mor\u001b[39;00m \u001b[38;5;28mself\u001b[39m\u001b[38;5;241m.\u001b[39m_backward_pre_hooks \u001b[38;5;129;01mor\u001b[39;00m \u001b[38;5;28mself\u001b[39m\u001b[38;5;241m.\u001b[39m_forward_hooks \u001b[38;5;129;01mor\u001b[39;00m \u001b[38;5;28mself\u001b[39m\u001b[38;5;241m.\u001b[39m_forward_pre_hooks\n\u001b[1;32m   1525\u001b[0m         \u001b[38;5;129;01mor\u001b[39;00m _global_backward_pre_hooks \u001b[38;5;129;01mor\u001b[39;00m _global_backward_hooks\n\u001b[1;32m   1526\u001b[0m         \u001b[38;5;129;01mor\u001b[39;00m _global_forward_hooks \u001b[38;5;129;01mor\u001b[39;00m _global_forward_pre_hooks):\n\u001b[0;32m-> 1527\u001b[0m     \u001b[38;5;28;01mreturn\u001b[39;00m \u001b[43mforward_call\u001b[49m\u001b[43m(\u001b[49m\u001b[38;5;241;43m*\u001b[39;49m\u001b[43margs\u001b[49m\u001b[43m,\u001b[49m\u001b[43m \u001b[49m\u001b[38;5;241;43m*\u001b[39;49m\u001b[38;5;241;43m*\u001b[39;49m\u001b[43mkwargs\u001b[49m\u001b[43m)\u001b[49m\n\u001b[1;32m   1529\u001b[0m \u001b[38;5;28;01mtry\u001b[39;00m:\n\u001b[1;32m   1530\u001b[0m     result \u001b[38;5;241m=\u001b[39m \u001b[38;5;28;01mNone\u001b[39;00m\n",
      "File \u001b[0;32m~/miniconda3/envs/pytorch/lib/python3.11/site-packages/torchvision/transforms/transforms.py:277\u001b[0m, in \u001b[0;36mNormalize.forward\u001b[0;34m(self, tensor)\u001b[0m\n\u001b[1;32m    269\u001b[0m \u001b[38;5;28;01mdef\u001b[39;00m \u001b[38;5;21mforward\u001b[39m(\u001b[38;5;28mself\u001b[39m, tensor: Tensor) \u001b[38;5;241m-\u001b[39m\u001b[38;5;241m>\u001b[39m Tensor:\n\u001b[1;32m    270\u001b[0m \u001b[38;5;250m    \u001b[39m\u001b[38;5;124;03m\"\"\"\u001b[39;00m\n\u001b[1;32m    271\u001b[0m \u001b[38;5;124;03m    Args:\u001b[39;00m\n\u001b[1;32m    272\u001b[0m \u001b[38;5;124;03m        tensor (Tensor): Tensor image to be normalized.\u001b[39;00m\n\u001b[0;32m   (...)\u001b[0m\n\u001b[1;32m    275\u001b[0m \u001b[38;5;124;03m        Tensor: Normalized Tensor image.\u001b[39;00m\n\u001b[1;32m    276\u001b[0m \u001b[38;5;124;03m    \"\"\"\u001b[39;00m\n\u001b[0;32m--> 277\u001b[0m     \u001b[38;5;28;01mreturn\u001b[39;00m \u001b[43mF\u001b[49m\u001b[38;5;241;43m.\u001b[39;49m\u001b[43mnormalize\u001b[49m\u001b[43m(\u001b[49m\u001b[43mtensor\u001b[49m\u001b[43m,\u001b[49m\u001b[43m \u001b[49m\u001b[38;5;28;43mself\u001b[39;49m\u001b[38;5;241;43m.\u001b[39;49m\u001b[43mmean\u001b[49m\u001b[43m,\u001b[49m\u001b[43m \u001b[49m\u001b[38;5;28;43mself\u001b[39;49m\u001b[38;5;241;43m.\u001b[39;49m\u001b[43mstd\u001b[49m\u001b[43m,\u001b[49m\u001b[43m \u001b[49m\u001b[38;5;28;43mself\u001b[39;49m\u001b[38;5;241;43m.\u001b[39;49m\u001b[43minplace\u001b[49m\u001b[43m)\u001b[49m\n",
      "File \u001b[0;32m~/miniconda3/envs/pytorch/lib/python3.11/site-packages/torchvision/transforms/functional.py:363\u001b[0m, in \u001b[0;36mnormalize\u001b[0;34m(tensor, mean, std, inplace)\u001b[0m\n\u001b[1;32m    360\u001b[0m \u001b[38;5;28;01mif\u001b[39;00m \u001b[38;5;129;01mnot\u001b[39;00m \u001b[38;5;28misinstance\u001b[39m(tensor, torch\u001b[38;5;241m.\u001b[39mTensor):\n\u001b[1;32m    361\u001b[0m     \u001b[38;5;28;01mraise\u001b[39;00m \u001b[38;5;167;01mTypeError\u001b[39;00m(\u001b[38;5;124mf\u001b[39m\u001b[38;5;124m\"\u001b[39m\u001b[38;5;124mimg should be Tensor Image. Got \u001b[39m\u001b[38;5;132;01m{\u001b[39;00m\u001b[38;5;28mtype\u001b[39m(tensor)\u001b[38;5;132;01m}\u001b[39;00m\u001b[38;5;124m\"\u001b[39m)\n\u001b[0;32m--> 363\u001b[0m \u001b[38;5;28;01mreturn\u001b[39;00m \u001b[43mF_t\u001b[49m\u001b[38;5;241;43m.\u001b[39;49m\u001b[43mnormalize\u001b[49m\u001b[43m(\u001b[49m\u001b[43mtensor\u001b[49m\u001b[43m,\u001b[49m\u001b[43m \u001b[49m\u001b[43mmean\u001b[49m\u001b[38;5;241;43m=\u001b[39;49m\u001b[43mmean\u001b[49m\u001b[43m,\u001b[49m\u001b[43m \u001b[49m\u001b[43mstd\u001b[49m\u001b[38;5;241;43m=\u001b[39;49m\u001b[43mstd\u001b[49m\u001b[43m,\u001b[49m\u001b[43m \u001b[49m\u001b[43minplace\u001b[49m\u001b[38;5;241;43m=\u001b[39;49m\u001b[43minplace\u001b[49m\u001b[43m)\u001b[49m\n",
      "File \u001b[0;32m~/miniconda3/envs/pytorch/lib/python3.11/site-packages/torchvision/transforms/_functional_tensor.py:922\u001b[0m, in \u001b[0;36mnormalize\u001b[0;34m(tensor, mean, std, inplace)\u001b[0m\n\u001b[1;32m    920\u001b[0m mean \u001b[38;5;241m=\u001b[39m torch\u001b[38;5;241m.\u001b[39mas_tensor(mean, dtype\u001b[38;5;241m=\u001b[39mdtype, device\u001b[38;5;241m=\u001b[39mtensor\u001b[38;5;241m.\u001b[39mdevice)\n\u001b[1;32m    921\u001b[0m std \u001b[38;5;241m=\u001b[39m torch\u001b[38;5;241m.\u001b[39mas_tensor(std, dtype\u001b[38;5;241m=\u001b[39mdtype, device\u001b[38;5;241m=\u001b[39mtensor\u001b[38;5;241m.\u001b[39mdevice)\n\u001b[0;32m--> 922\u001b[0m \u001b[38;5;28;01mif\u001b[39;00m \u001b[43m(\u001b[49m\u001b[43mstd\u001b[49m\u001b[43m \u001b[49m\u001b[38;5;241;43m==\u001b[39;49m\u001b[43m \u001b[49m\u001b[38;5;241;43m0\u001b[39;49m\u001b[43m)\u001b[49m\u001b[38;5;241;43m.\u001b[39;49m\u001b[43many\u001b[49m\u001b[43m(\u001b[49m\u001b[43m)\u001b[49m:\n\u001b[1;32m    923\u001b[0m     \u001b[38;5;28;01mraise\u001b[39;00m \u001b[38;5;167;01mValueError\u001b[39;00m(\u001b[38;5;124mf\u001b[39m\u001b[38;5;124m\"\u001b[39m\u001b[38;5;124mstd evaluated to zero after conversion to \u001b[39m\u001b[38;5;132;01m{\u001b[39;00mdtype\u001b[38;5;132;01m}\u001b[39;00m\u001b[38;5;124m, leading to division by zero.\u001b[39m\u001b[38;5;124m\"\u001b[39m)\n\u001b[1;32m    924\u001b[0m \u001b[38;5;28;01mif\u001b[39;00m mean\u001b[38;5;241m.\u001b[39mndim \u001b[38;5;241m==\u001b[39m \u001b[38;5;241m1\u001b[39m:\n",
      "\u001b[0;31mKeyboardInterrupt\u001b[0m: "
     ]
    }
   ],
   "source": [
    "train_dataset = create_train_dataset(TRANSFORM_DATASET, AUGMENT_DATASET)\n",
    "test_dataset, validation_dataset = create_test_dataset(validation_split=0.3)"
   ]
  },
  {
   "cell_type": "code",
   "execution_count": 17,
   "metadata": {},
   "outputs": [
    {
     "name": "stdout",
     "output_type": "stream",
     "text": [
      "Numero totale di campioni: 60000\n",
      "Distribuzione delle relazioni (A > B, A < B, A = B): {0: 20000, 1: 20000, 2: 20000}\n",
      "Dimensioni delle immagini trovate nel dataset: {torch.Size([2, 28, 28])}\n",
      "Relazione 0: 20000 campioni (33.33%)\n",
      "Relazione 1: 20000 campioni (33.33%)\n",
      "Relazione 2: 20000 campioni (33.33%)\n",
      "\n",
      "\n"
     ]
    },
    {
     "data": {
      "image/png": "[encoded data removed]",
      "text/plain": [
       "<Figure size 1000x600 with 1 Axes>"
      ]
     },
     "metadata": {},
     "output_type": "display_data"
    },
    {
     "data": {
      "image/png": "[encoded data removed]",
      "text/plain": [
       "<Figure size 1000x600 with 1 Axes>"
      ]
     },
     "metadata": {},
     "output_type": "display_data"
    }
   ],
   "source": [
    "plot_dataset_statistics(train_dataset, dataset_name=\"Train Dataset\")"
   ]
  },
  {
   "cell_type": "code",
   "execution_count": 18,
   "metadata": {},
   "outputs": [
    {
     "name": "stdout",
     "output_type": "stream",
     "text": [
      "Numero totale di campioni: 7000\n",
      "Distribuzione delle relazioni (A > B, A < B, A = B): {1: 2302, 0: 2378, 2: 2320}\n",
      "Dimensioni delle immagini trovate nel dataset: {torch.Size([2, 28, 28])}\n",
      "Relazione 1: 2302 campioni (32.89%)\n",
      "Relazione 0: 2378 campioni (33.97%)\n",
      "Relazione 2: 2320 campioni (33.14%)\n",
      "\n",
      "\n"
     ]
    },
    {
     "data": {
      "image/png": "[encoded data removed]",
      "text/plain": [
       "<Figure size 1000x600 with 1 Axes>"
      ]
     },
     "metadata": {},
     "output_type": "display_data"
    },
    {
     "data": {
      "image/png": "[encoded data removed]",
      "text/plain": [
       "<Figure size 1000x600 with 1 Axes>"
      ]
     },
     "metadata": {},
     "output_type": "display_data"
    }
   ],
   "source": [
    "plot_dataset_statistics(test_dataset, dataset_name=\"Test Dataset\")"
   ]
  },
  {
   "cell_type": "code",
   "execution_count": 19,
   "metadata": {},
   "outputs": [
    {
     "name": "stdout",
     "output_type": "stream",
     "text": [
      "Numero totale di campioni: 2999\n",
      "Distribuzione delle relazioni (A > B, A < B, A = B): {1: 1031, 0: 955, 2: 1013}\n",
      "Dimensioni delle immagini trovate nel dataset: {torch.Size([2, 28, 28])}\n",
      "Relazione 1: 1031 campioni (34.38%)\n",
      "Relazione 0: 955 campioni (31.84%)\n",
      "Relazione 2: 1013 campioni (33.78%)\n",
      "\n",
      "\n"
     ]
    },
    {
     "data": {
      "image/png": "[encoded data removed]",
      "text/plain": [
       "<Figure size 1000x600 with 1 Axes>"
      ]
     },
     "metadata": {},
     "output_type": "display_data"
    },
    {
     "data": {
      "image/png": "[encoded data removed]",
      "text/plain": [
       "<Figure size 1000x600 with 1 Axes>"
      ]
     },
     "metadata": {},
     "output_type": "display_data"
    }
   ],
   "source": [
    "plot_dataset_statistics(validation_dataset, dataset_name=\"Validation Dataset\")"
   ]
  },
  {
   "cell_type": "code",
   "execution_count": 20,
   "metadata": {},
   "outputs": [],
   "source": [
    "train_loader, validation_loader, test_loader = create_data_loader(train_dataset, validation_dataset, test_dataset, BATCH_SIZE)"
   ]
  },
  {
   "cell_type": "code",
   "execution_count": 21,
   "metadata": {},
   "outputs": [
    {
     "name": "stdout",
     "output_type": "stream",
     "text": [
      "Size train_loader:  469  Size train_dataset:  60000\n",
      "Size validation_loader:  24  Size validation_dataset:  2999\n",
      "Size test_loader:  55  Size test_dataset:  7000\n"
     ]
    }
   ],
   "source": [
    "print(\"Size train_loader: \", len(train_loader), \" Size train_dataset: \", len(train_dataset))\n",
    "print(\"Size validation_loader: \", len(validation_loader), \" Size validation_dataset: \", len(validation_dataset))\n",
    "print(\"Size test_loader: \", len(test_loader), \" Size test_dataset: \", len(test_dataset))"
   ]
  },
  {
   "cell_type": "code",
   "execution_count": 184,
   "metadata": {},
   "outputs": [],
   "source": [
    "#if PRINT_IMG:\n",
    "#    show_dataset(train_loader, 10)"
   ]
  },
  {
   "cell_type": "code",
   "execution_count": 34,
   "metadata": {},
   "outputs": [
    {
     "name": "stdout",
     "output_type": "stream",
     "text": [
      "cpu\n"
     ]
    }
   ],
   "source": [
    "device = torch.device(\"cuda:0\" if torch.cuda.is_available() else \"cpu\")\n",
    "print(device)"
   ]
  },
  {
   "cell_type": "code",
   "execution_count": 35,
   "metadata": {},
   "outputs": [
    {
     "name": "stdout",
     "output_type": "stream",
     "text": [
      "CustomLeNet5(\n",
      "  (conv1): Conv2d(2, 6, kernel_size=(5, 5), stride=(1, 1))\n",
      "  (conv2): Conv2d(6, 16, kernel_size=(5, 5), stride=(1, 1))\n",
      "  (fc1): Linear(in_features=256, out_features=120, bias=True)\n",
      "  (fc2): Linear(in_features=120, out_features=84, bias=True)\n",
      "  (fc3): Linear(in_features=84, out_features=3, bias=True)\n",
      ")\n"
     ]
    }
   ],
   "source": [
    "import torch.nn as nn\n",
    "import torch.nn.functional as F\n",
    "\n",
    "class CustomLeNet5(nn.Module):\n",
    "    def __init__(self):\n",
    "        super(CustomLeNet5, self).__init__()\n",
    "        self.conv1 = nn.Conv2d(2, 6, kernel_size=5)\n",
    "        self.conv2 = nn.Conv2d(6, 16, kernel_size=5)\n",
    "        self.fc1 = nn.Linear(16 * 4 * 4, 120)\n",
    "        self.fc2 = nn.Linear(120, 84)\n",
    "        self.fc3 = nn.Linear(84, 3)\n",
    "\n",
    "    def forward(self, x):\n",
    "        x = F.relu(self.conv1(x))\n",
    "        x = F.max_pool2d(x, 2)\n",
    "        x = F.relu(self.conv2(x))\n",
    "        x = F.max_pool2d(x, 2)\n",
    "        x = x.view(-1, 16 * 4 * 4)\n",
    "        x = F.relu(self.fc1(x))\n",
    "        x = F.relu(self.fc2(x))\n",
    "        x = self.fc3(x)\n",
    "        return x\n",
    "\n",
    "model = CustomLeNet5()\n",
    "print(model)\n"
   ]
  },
  {
   "cell_type": "code",
   "execution_count": 36,
   "metadata": {},
   "outputs": [],
   "source": [
    "# define Loss and Optimizer\n",
    "import torch.optim as optim\n",
    "\n",
    "criterion = nn.CrossEntropyLoss()\n",
    "optimizer = optim.SGD(model.parameters(), lr=LEARNING_RATE, momentum=MOMENTUM)"
   ]
  },
  {
   "cell_type": "code",
   "execution_count": 37,
   "metadata": {},
   "outputs": [
    {
     "data": {
      "image/png": "[encoded data removed]",
      "text/plain": [
       "<Figure size 600x1000 with 15 Axes>"
      ]
     },
     "metadata": {},
     "output_type": "display_data"
    }
   ],
   "source": [
    "from torch.utils.tensorboard import SummaryWriter\n",
    "\n",
    "fileName = f\"runs/log_bs={BATCH_SIZE}_lr={LEARNING_RATE}_e={EPOCHS}_m={MOMENTUM}_aug={AUGMENT_DATASET}_tra={TRANSFORM_DATASET}\"\n",
    "writer = SummaryWriter(fileName)\n",
    "\n",
    "writer.add_graph(model, next(iter(train_loader))[0])\n",
    "\n",
    "writer.add_figure('Image_pair', show_dataset(train_loader, 5))"
   ]
  },
  {
   "cell_type": "code",
   "execution_count": 38,
   "metadata": {},
   "outputs": [],
   "source": [
    "# define train and test functions\n",
    "from tqdm import tqdm\n",
    "\n",
    "def train(train_data_loader, model):\n",
    "    print('Training')\n",
    "    train_itr = 0\n",
    "    correct_train = 0\n",
    "    total_train = 0\n",
    "    running_loss = 0.0\n",
    "    train_loss_list = []\n",
    "    train_accuracy_list = []\n",
    "    \n",
    "    # initialize tqdm progress bar\n",
    "    prog_bar = tqdm(train_data_loader, total=len(train_data_loader))\n",
    "    \n",
    "    for i, data in enumerate(prog_bar):\n",
    "        images, labels = data\n",
    "        images, labels = images.to(device), labels.to(device)\n",
    "\n",
    "        optimizer.zero_grad()\n",
    "\n",
    "        outputs = model(images)\n",
    "        _, predicted = torch.max(outputs, 1)\n",
    "\n",
    "        correct_train += (predicted == labels).sum().item()\n",
    "        total_train += labels.size(0)\n",
    "\n",
    "        loss = criterion(outputs, labels)\n",
    "        loss.backward()\n",
    "        optimizer.step()\n",
    "\n",
    "        loss_value = loss.item()\n",
    "        running_loss += loss_value\n",
    "\n",
    "        train_loss_list.append(loss_value)\n",
    "        train_accuracy_list.append(100 * correct_train / total_train)\n",
    "\n",
    "        train_itr += 1\n",
    "    \n",
    "        # update the loss value beside the progress bar for each iteration\n",
    "        prog_bar.set_description(desc=f\"Loss: {loss_value:.4f}\")\n",
    "    return running_loss / len(train_data_loader), 100 * correct_train / total_train, train_loss_list, train_accuracy_list\n",
    "\n",
    "def validate(data_loader, model):\n",
    "    print('Validating')\n",
    "    val_itr = 0\n",
    "    correct = 0\n",
    "    total = 0\n",
    "    running_loss = 0.0\n",
    "    val_loss_list = []\n",
    "    val_accuracy_list = []\n",
    "    \n",
    "    # initialize tqdm progress bar\n",
    "    prog_bar = tqdm(data_loader, total=len(data_loader))\n",
    "    \n",
    "    for i, data in enumerate(prog_bar):\n",
    "        images, labels = data\n",
    "        images, labels = images.to(device), labels.to(device)\n",
    "        \n",
    "        with torch.no_grad():\n",
    "            outputs = model(images)\n",
    "\n",
    "        _, predicted = torch.max(outputs.data, 1)\n",
    "        total += labels.size(0)\n",
    "        correct += (predicted == labels).sum().item()\n",
    "        loss = criterion(outputs, labels)\n",
    "        loss_value = loss.item()\n",
    "        running_loss += loss_value\n",
    "        val_loss_list.append(loss_value)\n",
    "        val_accuracy_list.append(100 * correct / total)\n",
    "        val_itr += 1\n",
    "        # update the loss value beside the progress bar for each iteration\n",
    "        prog_bar.set_description(desc=f\"Loss: {loss_value:.4f}\")\n",
    "    return loss_value, 100 * correct / total, val_loss_list, val_accuracy_list"
   ]
  },
  {
   "cell_type": "code",
   "execution_count": 39,
   "metadata": {},
   "outputs": [
    {
     "name": "stdout",
     "output_type": "stream",
     "text": [
      "\n",
      "EPOCH 1 of 25\n",
      "Training\n"
     ]
    },
    {
     "name": "stderr",
     "output_type": "stream",
     "text": [
      "  0%|          | 0/469 [00:00<?, ?it/s]"
     ]
    },
    {
     "name": "stderr",
     "output_type": "stream",
     "text": [
      "Loss: 0.5861: 100%|██████████| 469/469 [00:08<00:00, 56.76it/s]\n"
     ]
    },
    {
     "name": "stdout",
     "output_type": "stream",
     "text": [
      "Validating\n"
     ]
    },
    {
     "name": "stderr",
     "output_type": "stream",
     "text": [
      "Loss: 0.4809: 100%|██████████| 24/24 [00:00<00:00, 85.59it/s]\n"
     ]
    },
    {
     "name": "stdout",
     "output_type": "stream",
     "text": [
      "Epoch #1 train loss: 0.847 train accuracy: 59.80\n",
      "Epoch #1 validation loss: 0.481 validation accuracy: 77.36\n",
      "Took 0.143 minutes for epoch 1\n",
      "\n",
      "EPOCH 2 of 25\n",
      "Training\n"
     ]
    },
    {
     "name": "stderr",
     "output_type": "stream",
     "text": [
      "Loss: 0.4134: 100%|██████████| 469/469 [00:08<00:00, 58.13it/s]\n"
     ]
    },
    {
     "name": "stdout",
     "output_type": "stream",
     "text": [
      "Validating\n"
     ]
    },
    {
     "name": "stderr",
     "output_type": "stream",
     "text": [
      "Loss: 0.3627: 100%|██████████| 24/24 [00:00<00:00, 122.73it/s]\n"
     ]
    },
    {
     "name": "stdout",
     "output_type": "stream",
     "text": [
      "Epoch #2 train loss: 0.472 train accuracy: 81.02\n",
      "Epoch #2 validation loss: 0.363 validation accuracy: 85.26\n",
      "Took 0.138 minutes for epoch 2\n",
      "\n",
      "EPOCH 3 of 25\n",
      "Training\n"
     ]
    },
    {
     "name": "stderr",
     "output_type": "stream",
     "text": [
      "Loss: 0.2181: 100%|██████████| 469/469 [00:10<00:00, 46.63it/s]\n"
     ]
    },
    {
     "name": "stdout",
     "output_type": "stream",
     "text": [
      "Validating\n"
     ]
    },
    {
     "name": "stderr",
     "output_type": "stream",
     "text": [
      "Loss: 0.3222: 100%|██████████| 24/24 [00:00<00:00, 94.53it/s] \n"
     ]
    },
    {
     "name": "stdout",
     "output_type": "stream",
     "text": [
      "Epoch #3 train loss: 0.337 train accuracy: 87.08\n",
      "Epoch #3 validation loss: 0.322 validation accuracy: 89.26\n",
      "Took 0.172 minutes for epoch 3\n",
      "\n",
      "EPOCH 4 of 25\n",
      "Training\n"
     ]
    },
    {
     "name": "stderr",
     "output_type": "stream",
     "text": [
      "Loss: 0.2128: 100%|██████████| 469/469 [00:09<00:00, 47.92it/s]\n"
     ]
    },
    {
     "name": "stdout",
     "output_type": "stream",
     "text": [
      "Validating\n"
     ]
    },
    {
     "name": "stderr",
     "output_type": "stream",
     "text": [
      "Loss: 0.2223: 100%|██████████| 24/24 [00:00<00:00, 94.95it/s]\n"
     ]
    },
    {
     "name": "stdout",
     "output_type": "stream",
     "text": [
      "Epoch #4 train loss: 0.263 train accuracy: 90.10\n",
      "Epoch #4 validation loss: 0.222 validation accuracy: 91.30\n",
      "Took 0.168 minutes for epoch 4\n",
      "\n",
      "EPOCH 5 of 25\n",
      "Training\n"
     ]
    },
    {
     "name": "stderr",
     "output_type": "stream",
     "text": [
      "Loss: 0.2073: 100%|██████████| 469/469 [00:09<00:00, 48.39it/s]\n"
     ]
    },
    {
     "name": "stdout",
     "output_type": "stream",
     "text": [
      "Validating\n"
     ]
    },
    {
     "name": "stderr",
     "output_type": "stream",
     "text": [
      "Loss: 0.2566: 100%|██████████| 24/24 [00:00<00:00, 91.23it/s]\n"
     ]
    },
    {
     "name": "stdout",
     "output_type": "stream",
     "text": [
      "Epoch #5 train loss: 0.211 train accuracy: 92.22\n",
      "Epoch #5 validation loss: 0.257 validation accuracy: 92.33\n",
      "Took 0.166 minutes for epoch 5\n",
      "\n",
      "EPOCH 6 of 25\n",
      "Training\n"
     ]
    },
    {
     "name": "stderr",
     "output_type": "stream",
     "text": [
      "Loss: 0.2385: 100%|██████████| 469/469 [00:09<00:00, 50.75it/s]\n"
     ]
    },
    {
     "name": "stdout",
     "output_type": "stream",
     "text": [
      "Validating\n"
     ]
    },
    {
     "name": "stderr",
     "output_type": "stream",
     "text": [
      "Loss: 0.2310: 100%|██████████| 24/24 [00:00<00:00, 100.98it/s]\n"
     ]
    },
    {
     "name": "stdout",
     "output_type": "stream",
     "text": [
      "Epoch #6 train loss: 0.180 train accuracy: 93.38\n",
      "Epoch #6 validation loss: 0.231 validation accuracy: 91.80\n",
      "Took 0.158 minutes for epoch 6\n",
      "\n",
      "EPOCH 7 of 25\n",
      "Training\n"
     ]
    },
    {
     "name": "stderr",
     "output_type": "stream",
     "text": [
      "Loss: 0.0860: 100%|██████████| 469/469 [00:09<00:00, 50.96it/s]\n"
     ]
    },
    {
     "name": "stdout",
     "output_type": "stream",
     "text": [
      "Validating\n"
     ]
    },
    {
     "name": "stderr",
     "output_type": "stream",
     "text": [
      "Loss: 0.1961: 100%|██████████| 24/24 [00:00<00:00, 85.87it/s]\n"
     ]
    },
    {
     "name": "stdout",
     "output_type": "stream",
     "text": [
      "Epoch #7 train loss: 0.154 train accuracy: 94.38\n",
      "Epoch #7 validation loss: 0.196 validation accuracy: 92.83\n",
      "Took 0.158 minutes for epoch 7\n",
      "\n",
      "EPOCH 8 of 25\n",
      "Training\n"
     ]
    },
    {
     "name": "stderr",
     "output_type": "stream",
     "text": [
      "Loss: 0.0931: 100%|██████████| 469/469 [00:09<00:00, 47.62it/s]\n"
     ]
    },
    {
     "name": "stdout",
     "output_type": "stream",
     "text": [
      "Validating\n"
     ]
    },
    {
     "name": "stderr",
     "output_type": "stream",
     "text": [
      "Loss: 0.1907: 100%|██████████| 24/24 [00:00<00:00, 93.53it/s]\n"
     ]
    },
    {
     "name": "stdout",
     "output_type": "stream",
     "text": [
      "Epoch #8 train loss: 0.137 train accuracy: 95.11\n",
      "Epoch #8 validation loss: 0.191 validation accuracy: 93.36\n",
      "Took 0.169 minutes for epoch 8\n",
      "\n",
      "EPOCH 9 of 25\n",
      "Training\n"
     ]
    },
    {
     "name": "stderr",
     "output_type": "stream",
     "text": [
      "Loss: 0.0631: 100%|██████████| 469/469 [00:09<00:00, 47.84it/s]\n"
     ]
    },
    {
     "name": "stdout",
     "output_type": "stream",
     "text": [
      "Validating\n"
     ]
    },
    {
     "name": "stderr",
     "output_type": "stream",
     "text": [
      "Loss: 0.2088: 100%|██████████| 24/24 [00:00<00:00, 95.71it/s]\n"
     ]
    },
    {
     "name": "stdout",
     "output_type": "stream",
     "text": [
      "Epoch #9 train loss: 0.120 train accuracy: 95.61\n",
      "Epoch #9 validation loss: 0.209 validation accuracy: 93.76\n",
      "Took 0.168 minutes for epoch 9\n",
      "\n",
      "EPOCH 10 of 25\n",
      "Training\n"
     ]
    },
    {
     "name": "stderr",
     "output_type": "stream",
     "text": [
      "Loss: 0.1560: 100%|██████████| 469/469 [00:09<00:00, 49.68it/s]\n"
     ]
    },
    {
     "name": "stdout",
     "output_type": "stream",
     "text": [
      "Validating\n"
     ]
    },
    {
     "name": "stderr",
     "output_type": "stream",
     "text": [
      "Loss: 0.2440: 100%|██████████| 24/24 [00:00<00:00, 100.41it/s]\n"
     ]
    },
    {
     "name": "stdout",
     "output_type": "stream",
     "text": [
      "Epoch #10 train loss: 0.106 train accuracy: 96.05\n",
      "Epoch #10 validation loss: 0.244 validation accuracy: 93.66\n",
      "Took 0.162 minutes for epoch 10\n",
      "\n",
      "EPOCH 11 of 25\n",
      "Training\n"
     ]
    },
    {
     "name": "stderr",
     "output_type": "stream",
     "text": [
      "Loss: 0.0839: 100%|██████████| 469/469 [00:09<00:00, 50.02it/s]\n"
     ]
    },
    {
     "name": "stdout",
     "output_type": "stream",
     "text": [
      "Validating\n"
     ]
    },
    {
     "name": "stderr",
     "output_type": "stream",
     "text": [
      "Loss: 0.1588: 100%|██████████| 24/24 [00:00<00:00, 100.01it/s]\n"
     ]
    },
    {
     "name": "stdout",
     "output_type": "stream",
     "text": [
      "Epoch #11 train loss: 0.096 train accuracy: 96.48\n",
      "Epoch #11 validation loss: 0.159 validation accuracy: 94.43\n",
      "Took 0.160 minutes for epoch 11\n",
      "\n",
      "EPOCH 12 of 25\n",
      "Training\n"
     ]
    },
    {
     "name": "stderr",
     "output_type": "stream",
     "text": [
      "Loss: 0.0476: 100%|██████████| 469/469 [00:09<00:00, 50.33it/s]\n"
     ]
    },
    {
     "name": "stdout",
     "output_type": "stream",
     "text": [
      "Validating\n"
     ]
    },
    {
     "name": "stderr",
     "output_type": "stream",
     "text": [
      "Loss: 0.1718: 100%|██████████| 24/24 [00:00<00:00, 100.07it/s]\n"
     ]
    },
    {
     "name": "stdout",
     "output_type": "stream",
     "text": [
      "Epoch #12 train loss: 0.084 train accuracy: 96.90\n",
      "Epoch #12 validation loss: 0.172 validation accuracy: 93.60\n",
      "Took 0.159 minutes for epoch 12\n",
      "\n",
      "EPOCH 13 of 25\n",
      "Training\n"
     ]
    },
    {
     "name": "stderr",
     "output_type": "stream",
     "text": [
      "Loss: 0.0600: 100%|██████████| 469/469 [00:09<00:00, 50.55it/s]\n"
     ]
    },
    {
     "name": "stdout",
     "output_type": "stream",
     "text": [
      "Validating\n"
     ]
    },
    {
     "name": "stderr",
     "output_type": "stream",
     "text": [
      "Loss: 0.1571: 100%|██████████| 24/24 [00:00<00:00, 99.35it/s] \n"
     ]
    },
    {
     "name": "stdout",
     "output_type": "stream",
     "text": [
      "Epoch #13 train loss: 0.076 train accuracy: 97.26\n",
      "Epoch #13 validation loss: 0.157 validation accuracy: 94.16\n",
      "Took 0.159 minutes for epoch 13\n",
      "\n",
      "EPOCH 14 of 25\n",
      "Training\n"
     ]
    },
    {
     "name": "stderr",
     "output_type": "stream",
     "text": [
      "Loss: 0.0701: 100%|██████████| 469/469 [00:09<00:00, 50.53it/s]\n"
     ]
    },
    {
     "name": "stdout",
     "output_type": "stream",
     "text": [
      "Validating\n"
     ]
    },
    {
     "name": "stderr",
     "output_type": "stream",
     "text": [
      "Loss: 0.1978: 100%|██████████| 24/24 [00:00<00:00, 100.82it/s]\n"
     ]
    },
    {
     "name": "stdout",
     "output_type": "stream",
     "text": [
      "Epoch #14 train loss: 0.067 train accuracy: 97.55\n",
      "Epoch #14 validation loss: 0.198 validation accuracy: 94.33\n",
      "Took 0.159 minutes for epoch 14\n",
      "\n",
      "EPOCH 15 of 25\n",
      "Training\n"
     ]
    },
    {
     "name": "stderr",
     "output_type": "stream",
     "text": [
      "Loss: 0.0973: 100%|██████████| 469/469 [00:09<00:00, 47.65it/s]\n"
     ]
    },
    {
     "name": "stdout",
     "output_type": "stream",
     "text": [
      "Validating\n"
     ]
    },
    {
     "name": "stderr",
     "output_type": "stream",
     "text": [
      "Loss: 0.3178: 100%|██████████| 24/24 [00:00<00:00, 91.96it/s]\n"
     ]
    },
    {
     "name": "stdout",
     "output_type": "stream",
     "text": [
      "Epoch #15 train loss: 0.058 train accuracy: 97.82\n",
      "Epoch #15 validation loss: 0.318 validation accuracy: 94.80\n",
      "Took 0.169 minutes for epoch 15\n",
      "\n",
      "EPOCH 16 of 25\n",
      "Training\n"
     ]
    },
    {
     "name": "stderr",
     "output_type": "stream",
     "text": [
      "Loss: 0.0385: 100%|██████████| 469/469 [00:09<00:00, 49.31it/s]\n"
     ]
    },
    {
     "name": "stdout",
     "output_type": "stream",
     "text": [
      "Validating\n"
     ]
    },
    {
     "name": "stderr",
     "output_type": "stream",
     "text": [
      "Loss: 0.2768: 100%|██████████| 24/24 [00:00<00:00, 101.15it/s]\n"
     ]
    },
    {
     "name": "stdout",
     "output_type": "stream",
     "text": [
      "Epoch #16 train loss: 0.059 train accuracy: 97.81\n",
      "Epoch #16 validation loss: 0.277 validation accuracy: 94.36\n",
      "Took 0.163 minutes for epoch 16\n",
      "\n",
      "EPOCH 17 of 25\n",
      "Training\n"
     ]
    },
    {
     "name": "stderr",
     "output_type": "stream",
     "text": [
      "Loss: 0.0756: 100%|██████████| 469/469 [00:09<00:00, 49.90it/s]\n"
     ]
    },
    {
     "name": "stdout",
     "output_type": "stream",
     "text": [
      "Validating\n"
     ]
    },
    {
     "name": "stderr",
     "output_type": "stream",
     "text": [
      "Loss: 0.2556: 100%|██████████| 24/24 [00:00<00:00, 99.87it/s]\n"
     ]
    },
    {
     "name": "stdout",
     "output_type": "stream",
     "text": [
      "Epoch #17 train loss: 0.052 train accuracy: 98.11\n",
      "Epoch #17 validation loss: 0.256 validation accuracy: 94.00\n",
      "Took 0.161 minutes for epoch 17\n",
      "\n",
      "EPOCH 18 of 25\n",
      "Training\n"
     ]
    },
    {
     "name": "stderr",
     "output_type": "stream",
     "text": [
      "Loss: 0.0759: 100%|██████████| 469/469 [00:09<00:00, 50.05it/s]\n"
     ]
    },
    {
     "name": "stdout",
     "output_type": "stream",
     "text": [
      "Validating\n"
     ]
    },
    {
     "name": "stderr",
     "output_type": "stream",
     "text": [
      "Loss: 0.3032: 100%|██████████| 24/24 [00:00<00:00, 99.93it/s] \n"
     ]
    },
    {
     "name": "stdout",
     "output_type": "stream",
     "text": [
      "Epoch #18 train loss: 0.045 train accuracy: 98.37\n",
      "Epoch #18 validation loss: 0.303 validation accuracy: 94.73\n",
      "Took 0.160 minutes for epoch 18\n",
      "\n",
      "EPOCH 19 of 25\n",
      "Training\n"
     ]
    },
    {
     "name": "stderr",
     "output_type": "stream",
     "text": [
      "Loss: 0.0769: 100%|██████████| 469/469 [00:09<00:00, 48.53it/s]\n"
     ]
    },
    {
     "name": "stdout",
     "output_type": "stream",
     "text": [
      "Validating\n"
     ]
    },
    {
     "name": "stderr",
     "output_type": "stream",
     "text": [
      "Loss: 0.2665: 100%|██████████| 24/24 [00:00<00:00, 99.16it/s]\n"
     ]
    },
    {
     "name": "stdout",
     "output_type": "stream",
     "text": [
      "Epoch #19 train loss: 0.040 train accuracy: 98.59\n",
      "Epoch #19 validation loss: 0.267 validation accuracy: 94.56\n",
      "Took 0.165 minutes for epoch 19\n",
      "\n",
      "EPOCH 20 of 25\n",
      "Training\n"
     ]
    },
    {
     "name": "stderr",
     "output_type": "stream",
     "text": [
      "Loss: 0.0457: 100%|██████████| 469/469 [00:09<00:00, 50.68it/s]\n"
     ]
    },
    {
     "name": "stdout",
     "output_type": "stream",
     "text": [
      "Validating\n"
     ]
    },
    {
     "name": "stderr",
     "output_type": "stream",
     "text": [
      "Loss: 0.2657: 100%|██████████| 24/24 [00:00<00:00, 89.01it/s]\n"
     ]
    },
    {
     "name": "stdout",
     "output_type": "stream",
     "text": [
      "Epoch #20 train loss: 0.040 train accuracy: 98.57\n",
      "Epoch #20 validation loss: 0.266 validation accuracy: 94.56\n",
      "Took 0.159 minutes for epoch 20\n",
      "\n",
      "EPOCH 21 of 25\n",
      "Training\n"
     ]
    },
    {
     "name": "stderr",
     "output_type": "stream",
     "text": [
      "Loss: 0.0291: 100%|██████████| 469/469 [00:09<00:00, 50.20it/s]\n"
     ]
    },
    {
     "name": "stdout",
     "output_type": "stream",
     "text": [
      "Validating\n"
     ]
    },
    {
     "name": "stderr",
     "output_type": "stream",
     "text": [
      "Loss: 0.2135: 100%|██████████| 24/24 [00:00<00:00, 103.03it/s]\n"
     ]
    },
    {
     "name": "stdout",
     "output_type": "stream",
     "text": [
      "Epoch #21 train loss: 0.041 train accuracy: 98.49\n",
      "Epoch #21 validation loss: 0.213 validation accuracy: 95.17\n",
      "Took 0.160 minutes for epoch 21\n",
      "\n",
      "EPOCH 22 of 25\n",
      "Training\n"
     ]
    },
    {
     "name": "stderr",
     "output_type": "stream",
     "text": [
      "Loss: 0.0769: 100%|██████████| 469/469 [00:10<00:00, 45.61it/s]\n"
     ]
    },
    {
     "name": "stdout",
     "output_type": "stream",
     "text": [
      "Validating\n"
     ]
    },
    {
     "name": "stderr",
     "output_type": "stream",
     "text": [
      "Loss: 0.2854: 100%|██████████| 24/24 [00:00<00:00, 84.91it/s]\n"
     ]
    },
    {
     "name": "stdout",
     "output_type": "stream",
     "text": [
      "Epoch #22 train loss: 0.035 train accuracy: 98.73\n",
      "Epoch #22 validation loss: 0.285 validation accuracy: 94.23\n",
      "Took 0.176 minutes for epoch 22\n",
      "\n",
      "EPOCH 23 of 25\n",
      "Training\n"
     ]
    },
    {
     "name": "stderr",
     "output_type": "stream",
     "text": [
      "Loss: 0.0153: 100%|██████████| 469/469 [00:10<00:00, 46.54it/s]\n"
     ]
    },
    {
     "name": "stdout",
     "output_type": "stream",
     "text": [
      "Validating\n"
     ]
    },
    {
     "name": "stderr",
     "output_type": "stream",
     "text": [
      "Loss: 0.1407: 100%|██████████| 24/24 [00:00<00:00, 91.94it/s]\n"
     ]
    },
    {
     "name": "stdout",
     "output_type": "stream",
     "text": [
      "Epoch #23 train loss: 0.029 train accuracy: 98.96\n",
      "Epoch #23 validation loss: 0.141 validation accuracy: 95.10\n",
      "Took 0.173 minutes for epoch 23\n",
      "\n",
      "EPOCH 24 of 25\n",
      "Training\n"
     ]
    },
    {
     "name": "stderr",
     "output_type": "stream",
     "text": [
      "Loss: 0.0380: 100%|██████████| 469/469 [00:10<00:00, 46.65it/s]\n"
     ]
    },
    {
     "name": "stdout",
     "output_type": "stream",
     "text": [
      "Validating\n"
     ]
    },
    {
     "name": "stderr",
     "output_type": "stream",
     "text": [
      "Loss: 0.2077: 100%|██████████| 24/24 [00:00<00:00, 96.61it/s]\n"
     ]
    },
    {
     "name": "stdout",
     "output_type": "stream",
     "text": [
      "Epoch #24 train loss: 0.028 train accuracy: 98.97\n",
      "Epoch #24 validation loss: 0.208 validation accuracy: 94.56\n",
      "Took 0.172 minutes for epoch 24\n",
      "\n",
      "EPOCH 25 of 25\n",
      "Training\n"
     ]
    },
    {
     "name": "stderr",
     "output_type": "stream",
     "text": [
      "Loss: 0.0268: 100%|██████████| 469/469 [00:09<00:00, 46.91it/s]\n"
     ]
    },
    {
     "name": "stdout",
     "output_type": "stream",
     "text": [
      "Validating\n"
     ]
    },
    {
     "name": "stderr",
     "output_type": "stream",
     "text": [
      "Loss: 0.2908: 100%|██████████| 24/24 [00:00<00:00, 91.44it/s]\n"
     ]
    },
    {
     "name": "stdout",
     "output_type": "stream",
     "text": [
      "Epoch #25 train loss: 0.031 train accuracy: 98.90\n",
      "Epoch #25 validation loss: 0.291 validation accuracy: 94.33\n",
      "Took 0.171 minutes for epoch 25\n",
      "Validating\n"
     ]
    },
    {
     "name": "stderr",
     "output_type": "stream",
     "text": [
      "Loss: 0.3114: 100%|██████████| 55/55 [00:00<00:00, 76.95it/s]"
     ]
    },
    {
     "name": "stdout",
     "output_type": "stream",
     "text": [
      "Test loss: 0.311 Test accuracy: 94.77\n"
     ]
    },
    {
     "name": "stderr",
     "output_type": "stream",
     "text": [
      "\n"
     ]
    }
   ],
   "source": [
    "# TRAIN!!!\n",
    "import time\n",
    "model.train()\n",
    "train_losses = []\n",
    "val_losses = []\n",
    "train_accuracies = []\n",
    "val_accuracies = []\n",
    "total_val_loss = []\n",
    "total_val_acc = []\n",
    "total_train_loss = []\n",
    "total_train_acc = []\n",
    "for epoch in range(EPOCHS):\n",
    "        print(f\"\\nEPOCH {epoch+1} of {EPOCHS}\")\n",
    "\n",
    "        # start timer and carry out training and validation\n",
    "        start = time.time()\n",
    "        train_loss, train_acc, train_loss_list, train_acc_list = train(train_loader, model)\n",
    "        val_loss, val_acc, val_loss_list, val_acc_list = validate(validation_loader, model)\n",
    "        train_losses.append(train_loss)\n",
    "        val_losses.append(val_loss)\n",
    "        train_accuracies.append(train_acc)\n",
    "        val_accuracies.append(val_acc)\n",
    "        total_train_loss.extend(train_loss_list)\n",
    "        total_train_acc.extend(train_acc_list)\n",
    "        total_val_loss.extend(val_loss_list)\n",
    "        total_val_acc.extend(val_acc_list)\n",
    "        print(f\"Epoch #{epoch+1} train loss: {train_loss:.3f} train accuracy: {train_acc:.2f}\")   \n",
    "        print(f\"Epoch #{epoch+1} validation loss: {val_loss:.3f} validation accuracy: {val_acc:.2f}\")   \n",
    "        end = time.time()\n",
    "        print(f\"Took {((end - start) / 60):.3f} minutes for epoch {epoch+1}\")\n",
    "        writer.add_scalars('Loss', {\n",
    "                'Train': train_loss,\n",
    "                'Validation': val_loss\n",
    "        }, epoch + 1)\n",
    "        \n",
    "        writer.add_scalars('Accuracy', {\n",
    "                'Train': train_acc,\n",
    "                'Validation': val_acc\n",
    "        }, epoch + 1)\n",
    "\n",
    "# Valida il modello appena trainato con il test set\n",
    "model.eval()\n",
    "test_loss, test_acc, _, _ = validate(test_loader, model)\n",
    "print(f\"Test loss: {test_loss:.3f} Test accuracy: {test_acc:.2f}\")\n",
    "writer.add_scalar('Test Loss', test_loss)\n",
    "writer.add_scalar('Test Accuracy', test_acc)\n"
   ]
  },
  {
   "cell_type": "code",
   "execution_count": null,
   "metadata": {},
   "outputs": [
    {
     "name": "stdout",
     "output_type": "stream",
     "text": [
      "170 previsioni errate trovate.\n"
     ]
    }
   ],
   "source": [
    "def show_incorrect_predictions(model, dataloader, num_images=5):\n",
    "    model.eval()\n",
    "    all_images = []\n",
    "    all_labels = []\n",
    "    all_preds = []\n",
    "\n",
    "    # Itera su tutti i batch nel dataloader\n",
    "    with torch.no_grad():\n",
    "        for images, labels in dataloader:\n",
    "            outputs = model(images.to(device))\n",
    "            _, predicted = torch.max(outputs, 1)\n",
    "            \n",
    "            all_images.append(images.cpu())\n",
    "            all_labels.append(labels.cpu())\n",
    "            all_preds.append(predicted.cpu())\n",
    "\n",
    "    # Concatena tutti i batch raccolti\n",
    "    all_images = torch.cat(all_images)\n",
    "    all_labels = torch.cat(all_labels)\n",
    "    all_preds = torch.cat(all_preds)\n",
    "\n",
    "    # Trova gli indici delle previsioni errate\n",
    "    incorrect_predictions = (all_preds != all_labels).nonzero(as_tuple=True)[0]\n",
    "\n",
    "    print(f\"{len(incorrect_predictions)} previsioni errate trovate.\")\n",
    "\n",
    "    if len(incorrect_predictions) == 0:\n",
    "        print(\"Nessuna previsione errata trovata.\")\n",
    "        return\n",
    "\n",
    "    # Limita il numero di immagini errate da mostrare\n",
    "    num_images = min(num_images, len(incorrect_predictions))\n",
    "\n",
    "    fig, axes = plt.subplots(num_images, 3, figsize=(6, num_images * 2))\n",
    "    relation_labels = {0: 'A > B', 1: 'A < B', 2: 'A = B'}\n",
    "    \n",
    "    for idx, i in enumerate(incorrect_predictions[:num_images]):\n",
    "        img_A = all_images[i][0, :, :]\n",
    "        img_B = all_images[i][1, :, :]\n",
    "        pred_label = all_preds[i].item()\n",
    "        true_label = all_labels[i].item()\n",
    "\n",
    "        # Mostra l'immagine A\n",
    "        axes[idx, 0].imshow(img_A, cmap='gray')\n",
    "        axes[idx, 0].set_title('Image A')\n",
    "        axes[idx, 0].axis('off')\n",
    "\n",
    "        # Mostra l'etichetta di relazione prevista e reale\n",
    "        axes[idx, 1].text(0.5, 0.5, f'Pred: {relation_labels[pred_label]}\\nTrue: {relation_labels[true_label]}', \n",
    "                          fontsize=12, ha='center', va='center')\n",
    "        axes[idx, 1].axis('off')\n",
    "\n",
    "        # Mostra l'immagine B\n",
    "        axes[idx, 2].imshow(img_B, cmap='gray')\n",
    "        axes[idx, 2].set_title('Image B')\n",
    "        axes[idx, 2].axis('off')\n",
    "\n",
    "    plt.tight_layout()\n",
    "    plt.show()\n",
    "    return fig\n",
    "\n",
    "# Visualizza alcune previsioni errate\n",
    "writer.add_figure('Incorrect_predictions', show_incorrect_predictions(model, validation_loader, num_images=5))\n",
    "#show_incorrect_predictions(model, validation_loader, num_images=5)\n"
   ]
  },
  {
   "cell_type": "code",
   "execution_count": 29,
   "metadata": {},
   "outputs": [
    {
     "data": {
      "image/png": "[encoded data removed]",
      "text/plain": [
       "<Figure size 600x400 with 2 Axes>"
      ]
     },
     "metadata": {},
     "output_type": "display_data"
    },
    {
     "data": {
      "image/png": "[encoded data removed]",
      "text/plain": [
       "<Figure size 600x400 with 2 Axes>"
      ]
     },
     "metadata": {},
     "output_type": "display_data"
    }
   ],
   "source": [
    "# Funzione per calcolare e stampare la matrice di confusione normalizzata\n",
    "def plot_confusion_matrix(model, dataloader, device):\n",
    "    model.eval()\n",
    "    all_preds = []\n",
    "    all_labels = []\n",
    "\n",
    "    # Disabilita i gradienti per velocizzare il calcolo\n",
    "    with torch.no_grad():\n",
    "        for images, labels in dataloader:\n",
    "            images, labels = images.to(device), labels.to(device)\n",
    "\n",
    "            outputs = model(images)\n",
    "            _, predicted = torch.max(outputs, 1)\n",
    "\n",
    "            all_preds.extend(predicted.cpu().numpy())\n",
    "            all_labels.extend(labels.cpu().numpy())\n",
    "\n",
    "    # Crea la matrice di confusione\n",
    "    cm = confusion_matrix(all_labels, all_preds)\n",
    "    \n",
    "    # Normalizza la matrice di confusione\n",
    "    cm_normalized = cm.astype('float') / cm.sum(axis=1)[:, np.newaxis]  # Normalizza per ogni riga (classe vera)\n",
    "    \n",
    "    # Visualizza la matrice di confusione normalizzata in percentuale\n",
    "    fig = plt.figure(figsize=(6, 4))\n",
    "    sns.heatmap(cm_normalized * 100, annot=True, fmt=\".2f\", cmap=\"Blues\", \n",
    "                xticklabels=['A > B', 'A < B', 'A = B'], \n",
    "                yticklabels=['A > B', 'A < B', 'A = B'])\n",
    "    \n",
    "    plt.xlabel('Predicted')\n",
    "    plt.ylabel('True')\n",
    "    plt.title('Confusion Matrix (in %)')\n",
    "    plt.show()\n",
    "\n",
    "    return fig\n",
    "\n",
    "# Calcola e visualizza la matrice di confusione\n",
    "writer.add_figure('Confusion_matrix_validation', plot_confusion_matrix(model, validation_loader, device))\n",
    "writer.add_figure('Confusion_matrix_test', plot_confusion_matrix(model, test_loader, device))\n",
    "#plot_confusion_matrix(model, test_loader, device)\n"
   ]
  },
  {
   "cell_type": "code",
   "execution_count": 30,
   "metadata": {},
   "outputs": [
    {
     "name": "stdout",
     "output_type": "stream",
     "text": [
      "              precision    recall  f1-score   support\n",
      "\n",
      "       A > B       0.86      0.94      0.90      2378\n",
      "       A < B       0.94      0.86      0.90      2302\n",
      "       A = B       0.90      0.89      0.90      2320\n",
      "\n",
      "    accuracy                           0.90      7000\n",
      "   macro avg       0.90      0.90      0.90      7000\n",
      "weighted avg       0.90      0.90      0.90      7000\n",
      "\n"
     ]
    }
   ],
   "source": [
    "def classification_metrics(model, dataloader, device):\n",
    "    model.eval()\n",
    "    all_preds = []\n",
    "    all_labels = []\n",
    "\n",
    "    # Disabilita i gradienti per velocizzare il calcolo\n",
    "    with torch.no_grad():\n",
    "        for images, labels in dataloader:\n",
    "            images, labels = images.to(device), labels.to(device)\n",
    "\n",
    "            outputs = model(images)\n",
    "            _, predicted = torch.max(outputs, 1)\n",
    "\n",
    "            all_preds.extend(predicted.cpu().numpy())\n",
    "            all_labels.extend(labels.cpu().numpy())\n",
    "\n",
    "    # Genera il report di classificazione\n",
    "    report = classification_report(all_labels, all_preds, target_names=['A > B', 'A < B', 'A = B'])\n",
    "    print(report)\n",
    "\n",
    "# Stampa il report delle metriche\n",
    "classification_metrics(model, test_loader, device)\n"
   ]
  },
  {
   "cell_type": "markdown",
   "metadata": {},
   "source": [
    "Precision: Il numero di veri positivi diviso per il numero di esempi che sono stati predetti come positivi.\n",
    "Recall (Sensibilità): Il numero di veri positivi diviso per il numero di esempi che appartengono effettivamente alla classe positiva.\n",
    "F1-Score: La media armonica tra precisione e recall. È utile quando hai un dataset squilibrato.\n",
    "Support: Il numero di campioni effettivi per ogni classe."
   ]
  },
  {
   "cell_type": "code",
   "execution_count": 31,
   "metadata": {},
   "outputs": [
    {
     "name": "stdout",
     "output_type": "stream",
     "text": [
      "Notebook saved as run_BS=128_LR=0.001_MOM=0.9_EPOCHS=25_AUG=False_TRA=False.ipynb\n"
     ]
    }
   ],
   "source": [
    "# Funzione per salvare una copia del notebook\n",
    "def save_notebook_copy(notebook_name='main.ipynb'):\n",
    "    # Leggi il notebook attuale\n",
    "    with open(notebook_name, 'r') as f:\n",
    "        notebook_content = nbformat.read(f, as_version=4)\n",
    "    \n",
    "    # Costruisci il nome del file in base agli iperparametri\n",
    "    new_notebook_name = f\"run_BS={BATCH_SIZE}_LR={LEARNING_RATE}_MOM={MOMENTUM}_EPOCHS={EPOCHS}_AUG={AUGMENT_DATASET}_TRA={TRANSFORM_DATASET}.ipynb\"\n",
    "    \n",
    "    # Salva il notebook con il nuovo nome\n",
    "    with open(new_notebook_name, 'w') as f:\n",
    "        nbformat.write(notebook_content, f)\n",
    "    print(f\"Notebook saved as {new_notebook_name}\")\n",
    "\n",
    "# Specifica il nome del notebook attuale\n",
    "save_notebook_copy('main.ipynb')\n"
   ]
  },
  {
   "cell_type": "code",
   "execution_count": 32,
   "metadata": {},
   "outputs": [],
   "source": [
    "writer.close()"
   ]
  }
 ],
 "metadata": {
  "kernelspec": {
   "display_name": "pytorch",
   "language": "python",
   "name": "python3"
  },
  "language_info": {
   "codemirror_mode": {
    "name": "ipython",
    "version": 3
   },
   "file_extension": ".py",
   "mimetype": "text/x-python",
   "name": "python",
   "nbconvert_exporter": "python",
   "pygments_lexer": "ipython3",
   "version": "3.11.5"
  }
 },
 "nbformat": 4,
 "nbformat_minor": 2
}
